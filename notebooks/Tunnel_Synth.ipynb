{
 "cells": [
  {
   "cell_type": "code",
   "execution_count": 1,
   "metadata": {
    "collapsed": false
   },
   "outputs": [
    {
     "name": "stdout",
     "output_type": "stream",
     "text": [
      "Populating the interactive namespace from numpy and matplotlib\n"
     ]
    }
   ],
   "source": [
    "import sys\n",
    "sys.path.append('C:\\Users\\micmitch\\Documents\\UBC\\GIF\\Programs\\SimPEG')\n",
    "import SimPEG as simpeg\n",
    "import simpegDCIP as DC\n",
    "\n",
    "import numpy as np\n",
    "import scipy\n",
    "import matplotlib.pyplot as plt\n",
    "import itertools\n",
    "\n",
    "%pylab inline"
   ]
  },
  {
   "cell_type": "code",
   "execution_count": 2,
   "metadata": {
    "collapsed": false
   },
   "outputs": [],
   "source": [
    "\n",
    "\n",
    "# Minimum cell size in each direction\n",
    "dx = 1.\n",
    "dy = 1.\n",
    "dz = 1.\n",
    "\n",
    "# Number of core cells in each direction\n",
    "nCoreX = 71.\n",
    "nCoreY = 83.\n",
    "nCoreZ = 51.\n",
    "\n",
    "nPadX = 7\n",
    "nPadY = 7\n",
    "nPadZ = 7\n",
    "\n",
    "\n",
    "# Cell widths\n",
    "# hx = [(dx,nCoreX)]\n",
    "# hy = [(dy,nCoreY)]\n",
    "# hz = [(dz,nCoreZ)]\n",
    "hx = [(dx,nPadX, -1.3),(dx,nCoreX),(dx,nPadX, 1.3)]\n",
    "hy = [(dy,nPadY, -1.3),(dy,nCoreY),(dy,nPadY, 1.3)]\n",
    "hz = [(dz,nPadZ, -1.3),(dz,nCoreZ),(dz,nPadZ, 1.3)]\n",
    "\n",
    "# Calculate X padding distance\n",
    "hPadX = np.zeros([nPadX+1,1])\n",
    "hPadX[0] = dx\n",
    "for i in range (1,nPadX+1):\n",
    "    hPadX[i] = hPadX[i-1]*1.3\n",
    "\n",
    "xPadDist = np.max(np.cumsum(hPadX[1:nPadX+1]))\n",
    "\n",
    "# Calculate Y padding distance\n",
    "hPadY = np.zeros([nPadY+1,1])\n",
    "hPadY[0] = dy\n",
    "for i in range (1,nPadY+1):\n",
    "    hPadY[i] = hPadY[i-1]*1.3\n",
    "\n",
    "yPadDist = np.max(np.cumsum(hPadY[1:nPadY+1]))\n",
    "\n",
    "# Calculate Z padding distance\n",
    "hPadZ = np.zeros([nPadZ+1,1])\n",
    "hPadZ[0] = dz\n",
    "for i in range (1,nPadZ+1):\n",
    "    hPadZ[i] = hPadZ[i-1]*1.3\n",
    "\n",
    "zPadDist = np.max(np.cumsum(hPadZ[1:nPadZ+1]))\n",
    "\n",
    "# Desired Core mesh origin (Bottom SW corner)\n",
    "x0_core = -10.\n",
    "y0_core = -22.\n",
    "z0_core = 0.\n",
    "\n",
    "# Mesh origin (Bottom SW corner)\n",
    "x0 = x0_core - xPadDist\n",
    "y0 = y0_core - yPadDist\n",
    "z0 = z0_core - zPadDist\n"
   ]
  },
  {
   "cell_type": "code",
   "execution_count": 3,
   "metadata": {
    "collapsed": false
   },
   "outputs": [
    {
     "name": "stdout",
     "output_type": "stream",
     "text": [
      "  ---- 3-D TensorMesh ----  \n",
      "   x0: -32.86\n",
      "   y0: -44.86\n",
      "   z0: -22.86\n",
      "  nCx: 85\n",
      "  nCy: 97\n",
      "  nCz: 65\n",
      "   hx: 6.27, 4.83, 3.71, 2.86, 2.20, 1.69, 1.30, 71*1.00, 1.30, 1.69, 2.20, 2.86, 3.71, 4.83, 6.27\n",
      "   hy: 6.27, 4.83, 3.71, 2.86, 2.20, 1.69, 1.30, 83*1.00, 1.30, 1.69, 2.20, 2.86, 3.71, 4.83, 6.27\n",
      "   hz: 6.27, 4.83, 3.71, 2.86, 2.20, 1.69, 1.30, 51*1.00, 1.30, 1.69, 2.20, 2.86, 3.71, 4.83, 6.27\n"
     ]
    }
   ],
   "source": [
    "mesh = simpeg.Mesh.TensorMesh([hx, hy, hz],[x0,y0,z0])\n",
    "print mesh"
   ]
  },
  {
   "cell_type": "code",
   "execution_count": 4,
   "metadata": {
    "collapsed": false
   },
   "outputs": [
    {
     "data": {
      "text/plain": [
       "<matplotlib.text.Text at 0x1abb7f60>"
      ]
     },
     "execution_count": 4,
     "metadata": {},
     "output_type": "execute_result"
    },
    {
     "data": {
      "image/png": "[encoded data removed]",
      "text/plain": [
       "<matplotlib.figure.Figure at 0x1ab5fef0>"
      ]
     },
     "metadata": {},
     "output_type": "display_data"
    }
   ],
   "source": [
    "mesh.plotGrid()\n",
    "plt.title('Simple Mesh')\n",
    "plt.xlabel('x')\n",
    "plt.ylabel('y')\n",
    "# ax.set_zlabel('z')"
   ]
  },
  {
   "cell_type": "code",
   "execution_count": 5,
   "metadata": {
    "collapsed": true
   },
   "outputs": [],
   "source": [
    "# Create synthetic model\n",
    "sigmaFull = 1e-4\n",
    "sigma = np.ones(mesh.nC)*sigmaFull\n",
    "\n",
    "# Add tunnels\n",
    "sigmaTunnel = 1e-8\n",
    "\n",
    "t1_1 = np.array([2,49,24])\n",
    "t1_2 = np.array([5,15,27])\n",
    "tunnel1 = simpeg.Utils.ModelBuilder.getIndicesBlock(t1_1,t1_2, mesh.gridCC)\n",
    "sigma[tunnel1] = sigmaTunnel\n",
    "\n",
    "t2_1 = [2,49,24];\n",
    "t2_2 = [49,46,27];\n",
    "tunnel2 = simpeg.Utils.ModelBuilder.getIndicesBlock(t2_1,t2_2, mesh.gridCC)\n",
    "sigma[tunnel2] = sigmaTunnel\n",
    "\n",
    "t3_1 = [46,49,24];\n",
    "t3_2 = [49,-10,27];\n",
    "tunnel3 = simpeg.Utils.ModelBuilder.getIndicesBlock(t3_1,t3_2, mesh.gridCC)\n",
    "sigma[tunnel3] = sigmaTunnel\n",
    "\n",
    "# Add conductive block\n",
    "sigmaBlk1 = 10;\n",
    "b1_1 = [20,30,16];\n",
    "b1_2 = [30,20,35];\n",
    "blk1 = simpeg.Utils.ModelBuilder.getIndicesBlock(b1_1,b1_2, mesh.gridCC)\n",
    "sigma[blk1] = sigmaBlk1"
   ]
  },
  {
   "cell_type": "code",
   "execution_count": 6,
   "metadata": {
    "collapsed": false
   },
   "outputs": [
    {
     "data": {
      "image/png": "[encoded data removed]",
      "text/plain": [
       "<matplotlib.figure.Figure at 0x1ac3a550>"
      ]
     },
     "metadata": {},
     "output_type": "display_data"
    },
    {
     "data": {
      "image/png": "[encoded data removed]",
      "text/plain": [
       "<matplotlib.figure.Figure at 0x2363c0f0>"
      ]
     },
     "metadata": {},
     "output_type": "display_data"
    },
    {
     "data": {
      "image/png": "[encoded data removed]",
      "text/plain": [
       "<matplotlib.figure.Figure at 0x1fa2d9e8>"
      ]
     },
     "metadata": {},
     "output_type": "display_data"
    }
   ],
   "source": [
    "mesh.plotSlice(sigma, normal='X', grid=True)\n",
    "plt.gca().set_aspect('equal', adjustable='box')\n",
    "plt.draw()\n",
    "\n",
    "mesh.plotSlice(sigma, normal='Y', grid=True)\n",
    "plt.gca().set_aspect('equal', adjustable='box')\n",
    "plt.draw()\n",
    "\n",
    "mesh.plotSlice(sigma, normal='Z', grid=True)\n",
    "plt.gca().set_aspect('equal', adjustable='box')\n",
    "# plt.colormaps()\n",
    "# plt.colorbar()\n",
    "plt.draw()\n",
    "\n",
    "\n",
    "# How would I plot these using a log colorscale (to see tunnel cells) and insert a colorbar?"
   ]
  },
  {
   "cell_type": "code",
   "execution_count": 7,
   "metadata": {
    "collapsed": false
   },
   "outputs": [],
   "source": [
    "# Define electrode locations\n",
    "elecLoc = np.array([[5.5, 15.5, 25.5], \n",
    "    [ 5.5, 20.5, 25.5 ],\n",
    "    [ 5.5, 25.5, 25.5 ],\n",
    "    [ 5.5, 30.5, 25.5 ],\n",
    "    [ 5.5, 35.5, 25.5 ],\n",
    "    [ 5.5, 40.5, 25.5 ],\n",
    "    [ 5.5, 45.5, 25.5 ],\n",
    "    [ 10.5, 45.5, 25.5 ],\n",
    "    [ 15.5, 45.5, 25.5 ],\n",
    "    [ 20.5, 45.5, 25.5 ],\n",
    "    [ 25.5, 45.5, 25.5 ],\n",
    "    [ 30.5, 45.5, 25.5 ],\n",
    "    [ 35.5, 45.5, 25.5 ],\n",
    "    [ 40.5, 45.5, 25.5 ],\n",
    "    [ 45.5, 45.5, 25.5 ],\n",
    "    [ 45.5, 40.5, 25.5 ],\n",
    "    [ 45.5, 35.5, 25.5 ],\n",
    "    [ 45.5, 30.5, 25.5 ],\n",
    "    [ 45.5, 25.5, 25.5 ],\n",
    "    [ 45.5, 20.5, 25.5 ],\n",
    "    [ 45.5, 15.5, 25.5 ],\n",
    "    [ 45.5, 10.5, 25.5 ],\n",
    "    [ 45.5,  5.5, 25.5 ],\n",
    "    [ 45.5,  0.5, 25.5 ],\n",
    "    [ 45.5, -4.5, 25.5 ],\n",
    "    [ 45.5, -9.5, 25.5 ]])\n",
    "\n"
   ]
  },
  {
   "cell_type": "code",
   "execution_count": 8,
   "metadata": {
    "collapsed": false
   },
   "outputs": [],
   "source": [
    "# Create electrode sequence\n",
    "\n",
    "# Combinations of electrodes for dipole-dipole measurements\n",
    "\n",
    "nElec = elecLoc.shape[0]\n",
    "# elecInd = np.linspace(0,nElec-1,nElec-1)\n",
    "elecInd = np.arange(nElec)\n",
    "elecSeqObj = itertools.combinations(elecInd,4) # n choose k combinations\n",
    "\n",
    "# Extract data from combinations object\n",
    "elecSeqList = []\n",
    "for i in elecSeqObj:\n",
    "    elecSeqList.append(tuple(i))\n",
    "    \n",
    "elecSeq = np.array(elecSeqList)\n",
    "# elecSeq.shape\n",
    "\n",
    "# Take permutations of each combination\n",
    "FullElecSeqList = []\n",
    "for row in elecSeq:\n",
    "    permObj = itertools.permutations(row)\n",
    "    for j in permObj:\n",
    "        FullElecSeqList.append(tuple(j))\n",
    "        \n",
    "FullElecSeq = np.array(FullElecSeqList)\n",
    "# FullElecSeq.shape\n",
    "# check = FullElecSeq[0:30,:]\n",
    "# print check\n",
    "\n",
    "\n",
    "# Sort FullElecSeq by Tx columns\n",
    "FullElecSeq_Tx = FullElecSeq[:,0:2].copy() #np.hstack([[FullElecSeq[:,0:1]], [FullElecSeq[:,1:2]]])\n",
    "\n",
    "FullElecSeq_TxSort = np.array(np.sort(FullElecSeq_Tx, axis=1))\n",
    "\n",
    "\n",
    "# Sort FullElecSeq by Rx columns\n",
    "FullElecSeq_Rx = FullElecSeq[:,2:4].copy() \n",
    "\n",
    "FullElecSeq_RxSort = np.array(np.sort(FullElecSeq_Rx, axis=1))\n",
    "\n",
    "\n",
    "# Combine sorted Tx and Rx arrays\n",
    "FullElecSeq_Combined = np.hstack([FullElecSeq_TxSort,FullElecSeq_RxSort])\n",
    "# check = FullElecSeq_Combined[0:30,:]\n",
    "# print check\n",
    "FullElecSeq_Combined.shape\n",
    "\n",
    "\n",
    "# Find unique rows\n",
    "def unique_rows(A, return_index=False, return_inverse=False):\n",
    "    \"\"\"\n",
    "    Similar to MATLAB's unique(A, 'rows'), this returns B, I, J\n",
    "    where B is the unique rows of A and I and J satisfy\n",
    "    A = B[J,:] and B = A[I,:]\n",
    "\n",
    "    Returns I if return_index is True\n",
    "    Returns J if return_inverse is True\n",
    "    \n",
    "    From bfroehle (https://github.com/numpy/numpy/issues/2871) \n",
    "    \"\"\"\n",
    "    A = np.require(A, requirements='C')\n",
    "    assert A.ndim == 2, \"array must be 2-dim'l\"\n",
    "\n",
    "    B = np.unique(A.view([('', A.dtype)]*A.shape[1]),\n",
    "               return_index=return_index,\n",
    "               return_inverse=return_inverse)\n",
    "\n",
    "    if return_index or return_inverse:\n",
    "        return (B[0].view(A.dtype).reshape((-1, A.shape[1]), order='C'),) \\\n",
    "            + B[1:]\n",
    "    else:\n",
    "        return B.view(A.dtype).reshape((-1, A.shape[1]), order='C')\n",
    "    \n",
    "FullElecSeq_Unique  = unique_rows(FullElecSeq_Combined)\n",
    "# print FullElecSeq_Unique.shape\n",
    "# print FullElecSeq_Unique[1:20,:]\n",
    "# print FullElecSeq_Unique[-20::,:]\n"
   ]
  },
  {
   "cell_type": "code",
   "execution_count": 9,
   "metadata": {
    "collapsed": false
   },
   "outputs": [],
   "source": [
    "# Create Tx and Rx data objects for the survey object\n",
    "\n",
    "TxKey = unique_rows(FullElecSeq_Unique[:,0:2]);\n",
    "# print TxKey\n",
    "\n",
    "nTx = TxKey.shape[0]\n",
    "# print nTx\n",
    "\n",
    "nData = FullElecSeq_Unique.shape[0]\n",
    "# print nData\n",
    "\n",
    "AIds = FullElecSeq_Unique[:,0]\n",
    "BIds = FullElecSeq_Unique[:,1]\n",
    "MIds = FullElecSeq_Unique[:,2]\n",
    "NIds = FullElecSeq_Unique[:,3]\n",
    "\n",
    "ALoc = np.zeros([nData,3])\n",
    "BLoc = np.zeros([nData,3])\n",
    "MLoc = np.zeros([nData,3])\n",
    "NLoc = np.zeros([nData,3])\n",
    "\n",
    "for i in range(0, nElec-1):\n",
    "    AInd = np.where(AIds == i)\n",
    "    ALoc[AInd,:] = elecLoc[i,:]\n",
    "    \n",
    "    BInd = np.where(BIds == i)\n",
    "    BLoc[BInd,:] = elecLoc[i,:]\n",
    "    \n",
    "    MInd = np.where(MIds == i)\n",
    "    MLoc[MInd,:] = elecLoc[i,:]\n",
    "    \n",
    "    NInd = np.where(NIds == i)\n",
    "    NLoc[NInd,:] = elecLoc[i,:]\n",
    "\n",
    "\n",
    "RxData = DC.RxDipole(MLoc, NLoc)\n",
    "TxData = DC.SrcDipole([RxData], [ALoc],[BLoc])"
   ]
  },
  {
   "cell_type": "code",
   "execution_count": 13,
   "metadata": {
    "collapsed": false
   },
   "outputs": [],
   "source": [
    "# Assign TxData to DC survey object\n",
    "survey = DC.SurveyDC([TxData])\n",
    "# Assign mesh to probelm object\n",
    "problem = DC.ProblemDC_CC(mesh)\n",
    "# Pair survey with problem\n",
    "problem.pair(survey)"
   ]
  },
  {
   "cell_type": "code",
   "execution_count": 14,
   "metadata": {
    "collapsed": false
   },
   "outputs": [
    {
     "ename": "NameError",
     "evalue": "name 'SolverLU' is not defined",
     "output_type": "error",
     "traceback": [
      "\u001b[1;31m---------------------------------------------------------------------------\u001b[0m",
      "\u001b[1;31mNameError\u001b[0m                                 Traceback (most recent call last)",
      "\u001b[1;32m<ipython-input-14-37425d8b602d>\u001b[0m in \u001b[0;36m<module>\u001b[1;34m()\u001b[0m\n\u001b[0;32m      3\u001b[0m     \u001b[0mproblem\u001b[0m\u001b[1;33m.\u001b[0m\u001b[0mSolver\u001b[0m \u001b[1;33m=\u001b[0m \u001b[0mMumpsSolver\u001b[0m\u001b[1;33m\u001b[0m\u001b[0m\n\u001b[0;32m      4\u001b[0m \u001b[1;32mexcept\u001b[0m \u001b[0mException\u001b[0m\u001b[1;33m,\u001b[0m \u001b[0me\u001b[0m\u001b[1;33m:\u001b[0m\u001b[1;33m\u001b[0m\u001b[0m\n\u001b[1;32m----> 5\u001b[1;33m     \u001b[0mproblem\u001b[0m\u001b[1;33m.\u001b[0m\u001b[0mSolver\u001b[0m \u001b[1;33m=\u001b[0m \u001b[0mSolverLU\u001b[0m\u001b[1;33m\u001b[0m\u001b[0m\n\u001b[0m\u001b[0;32m      6\u001b[0m \u001b[1;33m\u001b[0m\u001b[0m\n",
      "\u001b[1;31mNameError\u001b[0m: name 'SolverLU' is not defined"
     ]
    }
   ],
   "source": [
    "try:\n",
    "    from pymatsolver import MumpsSolver\n",
    "    problem.Solver = MumpsSolver\n",
    "except Exception, e:\n",
    "    problem.Solver = SolverLU\n",
    "\n"
   ]
  },
  {
   "cell_type": "code",
   "execution_count": 19,
   "metadata": {
    "collapsed": false
   },
   "outputs": [
    {
     "ename": "TypeError",
     "evalue": "not all arguments converted during string formatting",
     "output_type": "error",
     "traceback": [
      "\u001b[1;31m---------------------------------------------------------------------------\u001b[0m",
      "\u001b[1;31mTypeError\u001b[0m                                 Traceback (most recent call last)",
      "\u001b[1;32m<ipython-input-19-6da2183bd7de>\u001b[0m in \u001b[0;36m<module>\u001b[1;34m()\u001b[0m\n\u001b[0;32m      2\u001b[0m \u001b[1;33m\u001b[0m\u001b[0m\n\u001b[0;32m      3\u001b[0m \u001b[1;31m# %%time\u001b[0m\u001b[1;33m\u001b[0m\u001b[1;33m\u001b[0m\u001b[0m\n\u001b[1;32m----> 4\u001b[1;33m \u001b[0mdataPred\u001b[0m \u001b[1;33m=\u001b[0m \u001b[0msurvey\u001b[0m\u001b[1;33m.\u001b[0m\u001b[0mdpred\u001b[0m\u001b[1;33m(\u001b[0m\u001b[0msigmaBackground\u001b[0m\u001b[1;33m)\u001b[0m\u001b[1;33m\u001b[0m\u001b[0m\n\u001b[0m",
      "\u001b[1;32mC:\\Users\\micmitch\\Documents\\UBC\\GIF\\Programs\\SimPEG\\SimPEG\\Utils\\CounterUtils.pyc\u001b[0m in \u001b[0;36mwrapper\u001b[1;34m(self, *args, **kwargs)\u001b[0m\n\u001b[0;32m     81\u001b[0m         \u001b[0mcounter\u001b[0m \u001b[1;33m=\u001b[0m \u001b[0mgetattr\u001b[0m\u001b[1;33m(\u001b[0m\u001b[0mself\u001b[0m\u001b[1;33m,\u001b[0m\u001b[1;34m'counter'\u001b[0m\u001b[1;33m,\u001b[0m\u001b[0mNone\u001b[0m\u001b[1;33m)\u001b[0m\u001b[1;33m\u001b[0m\u001b[0m\n\u001b[0;32m     82\u001b[0m         \u001b[1;32mif\u001b[0m \u001b[0mtype\u001b[0m\u001b[1;33m(\u001b[0m\u001b[0mcounter\u001b[0m\u001b[1;33m)\u001b[0m \u001b[1;32mis\u001b[0m \u001b[0mCounter\u001b[0m\u001b[1;33m:\u001b[0m \u001b[0mcounter\u001b[0m\u001b[1;33m.\u001b[0m\u001b[0mcount\u001b[0m\u001b[1;33m(\u001b[0m\u001b[0mself\u001b[0m\u001b[1;33m.\u001b[0m\u001b[0m__class__\u001b[0m\u001b[1;33m.\u001b[0m\u001b[0m__name__\u001b[0m\u001b[1;33m+\u001b[0m\u001b[1;34m'.'\u001b[0m\u001b[1;33m+\u001b[0m\u001b[0mf\u001b[0m\u001b[1;33m.\u001b[0m\u001b[0m__name__\u001b[0m\u001b[1;33m)\u001b[0m\u001b[1;33m\u001b[0m\u001b[0m\n\u001b[1;32m---> 83\u001b[1;33m         \u001b[0mout\u001b[0m \u001b[1;33m=\u001b[0m \u001b[0mf\u001b[0m\u001b[1;33m(\u001b[0m\u001b[0mself\u001b[0m\u001b[1;33m,\u001b[0m\u001b[1;33m*\u001b[0m\u001b[0margs\u001b[0m\u001b[1;33m,\u001b[0m\u001b[1;33m**\u001b[0m\u001b[0mkwargs\u001b[0m\u001b[1;33m)\u001b[0m\u001b[1;33m\u001b[0m\u001b[0m\n\u001b[0m\u001b[0;32m     84\u001b[0m         \u001b[1;32mreturn\u001b[0m \u001b[0mout\u001b[0m\u001b[1;33m\u001b[0m\u001b[0m\n\u001b[0;32m     85\u001b[0m     \u001b[1;32mreturn\u001b[0m \u001b[0mwrapper\u001b[0m\u001b[1;33m\u001b[0m\u001b[0m\n",
      "\u001b[1;32mC:\\Users\\micmitch\\Documents\\UBC\\GIF\\Programs\\SimPEG\\SimPEG\\Utils\\codeutils.pyc\u001b[0m in \u001b[0;36mrequiresVarWrapper\u001b[1;34m(self, *args, **kwargs)\u001b[0m\n\u001b[0;32m    221\u001b[0m             \u001b[1;32mif\u001b[0m \u001b[0mgetattr\u001b[0m\u001b[1;33m(\u001b[0m\u001b[0mself\u001b[0m\u001b[1;33m,\u001b[0m \u001b[0mvar\u001b[0m\u001b[1;33m,\u001b[0m \u001b[0mNone\u001b[0m\u001b[1;33m)\u001b[0m \u001b[1;32mis\u001b[0m \u001b[0mNone\u001b[0m\u001b[1;33m:\u001b[0m\u001b[1;33m\u001b[0m\u001b[0m\n\u001b[0;32m    222\u001b[0m                 \u001b[1;32mraise\u001b[0m \u001b[0mException\u001b[0m\u001b[1;33m(\u001b[0m\u001b[0mextra\u001b[0m\u001b[1;33m)\u001b[0m\u001b[1;33m\u001b[0m\u001b[0m\n\u001b[1;32m--> 223\u001b[1;33m             \u001b[1;32mreturn\u001b[0m \u001b[0mf\u001b[0m\u001b[1;33m(\u001b[0m\u001b[0mself\u001b[0m\u001b[1;33m,\u001b[0m\u001b[1;33m*\u001b[0m\u001b[0margs\u001b[0m\u001b[1;33m,\u001b[0m\u001b[1;33m**\u001b[0m\u001b[0mkwargs\u001b[0m\u001b[1;33m)\u001b[0m\u001b[1;33m\u001b[0m\u001b[0m\n\u001b[0m\u001b[0;32m    224\u001b[0m \u001b[1;33m\u001b[0m\u001b[0m\n\u001b[0;32m    225\u001b[0m         \u001b[0mdoc\u001b[0m \u001b[1;33m=\u001b[0m \u001b[0mrequiresVarWrapper\u001b[0m\u001b[1;33m.\u001b[0m\u001b[0m__doc__\u001b[0m\u001b[1;33m\u001b[0m\u001b[0m\n",
      "\u001b[1;32mC:\\Users\\micmitch\\Documents\\UBC\\GIF\\Programs\\SimPEG\\SimPEG\\Survey.pyc\u001b[0m in \u001b[0;36mdpred\u001b[1;34m(self, m, u)\u001b[0m\n\u001b[0;32m    306\u001b[0m             \u001b[0mWhere\u001b[0m \u001b[0mP\u001b[0m \u001b[1;32mis\u001b[0m \u001b[0ma\u001b[0m \u001b[0mprojection\u001b[0m \u001b[0mof\u001b[0m \u001b[0mthe\u001b[0m \u001b[0mfields\u001b[0m \u001b[0monto\u001b[0m \u001b[0mthe\u001b[0m \u001b[0mdata\u001b[0m \u001b[0mspace\u001b[0m\u001b[1;33m.\u001b[0m\u001b[1;33m\u001b[0m\u001b[0m\n\u001b[0;32m    307\u001b[0m         \"\"\"\n\u001b[1;32m--> 308\u001b[1;33m         \u001b[1;32mif\u001b[0m \u001b[0mu\u001b[0m \u001b[1;32mis\u001b[0m \u001b[0mNone\u001b[0m\u001b[1;33m:\u001b[0m \u001b[0mu\u001b[0m \u001b[1;33m=\u001b[0m \u001b[0mself\u001b[0m\u001b[1;33m.\u001b[0m\u001b[0mprob\u001b[0m\u001b[1;33m.\u001b[0m\u001b[0mfields\u001b[0m\u001b[1;33m(\u001b[0m\u001b[0mm\u001b[0m\u001b[1;33m)\u001b[0m\u001b[1;33m\u001b[0m\u001b[0m\n\u001b[0m\u001b[0;32m    309\u001b[0m         \u001b[1;32mreturn\u001b[0m \u001b[0mUtils\u001b[0m\u001b[1;33m.\u001b[0m\u001b[0mmkvc\u001b[0m\u001b[1;33m(\u001b[0m\u001b[0mself\u001b[0m\u001b[1;33m.\u001b[0m\u001b[0mprojectFields\u001b[0m\u001b[1;33m(\u001b[0m\u001b[0mu\u001b[0m\u001b[1;33m)\u001b[0m\u001b[1;33m)\u001b[0m\u001b[1;33m\u001b[0m\u001b[0m\n\u001b[0;32m    310\u001b[0m \u001b[1;33m\u001b[0m\u001b[0m\n",
      "\u001b[1;32mC:\\Users\\micmitch\\Documents\\simpegdc\\simpegDCIP\\BaseDC.py\u001b[0m in \u001b[0;36mfields\u001b[1;34m(self, m)\u001b[0m\n\u001b[0;32m    196\u001b[0m         \u001b[0mA\u001b[0m    \u001b[1;33m=\u001b[0m \u001b[0mself\u001b[0m\u001b[1;33m.\u001b[0m\u001b[0mA\u001b[0m\u001b[1;33m\u001b[0m\u001b[0m\n\u001b[0;32m    197\u001b[0m         \u001b[0mself\u001b[0m\u001b[1;33m.\u001b[0m\u001b[0mAinv\u001b[0m \u001b[1;33m=\u001b[0m \u001b[0mself\u001b[0m\u001b[1;33m.\u001b[0m\u001b[0mSolver\u001b[0m\u001b[1;33m(\u001b[0m\u001b[0mA\u001b[0m\u001b[1;33m,\u001b[0m \u001b[1;33m**\u001b[0m\u001b[0mself\u001b[0m\u001b[1;33m.\u001b[0m\u001b[0msolverOpts\u001b[0m\u001b[1;33m)\u001b[0m\u001b[1;33m\u001b[0m\u001b[0m\n\u001b[1;32m--> 198\u001b[1;33m         \u001b[0mRHS\u001b[0m    \u001b[1;33m=\u001b[0m \u001b[0mself\u001b[0m\u001b[1;33m.\u001b[0m\u001b[0mgetRHS\u001b[0m\u001b[1;33m(\u001b[0m\u001b[1;33m)\u001b[0m\u001b[1;33m\u001b[0m\u001b[0m\n\u001b[0m\u001b[0;32m    199\u001b[0m         \u001b[0mPhi\u001b[0m  \u001b[1;33m=\u001b[0m \u001b[0mself\u001b[0m\u001b[1;33m.\u001b[0m\u001b[0mAinv\u001b[0m \u001b[1;33m*\u001b[0m \u001b[0mRHS\u001b[0m\u001b[1;33m\u001b[0m\u001b[0m\n\u001b[0;32m    200\u001b[0m         \u001b[0mSrcs\u001b[0m \u001b[1;33m=\u001b[0m \u001b[0mself\u001b[0m\u001b[1;33m.\u001b[0m\u001b[0msurvey\u001b[0m\u001b[1;33m.\u001b[0m\u001b[0msrcList\u001b[0m\u001b[1;33m\u001b[0m\u001b[0m\n",
      "\u001b[1;32mC:\\Users\\micmitch\\Documents\\simpegdc\\simpegDCIP\\BaseDC.py\u001b[0m in \u001b[0;36mgetRHS\u001b[1;34m(self)\u001b[0m\n\u001b[0;32m    185\u001b[0m     \u001b[1;32mdef\u001b[0m \u001b[0mgetRHS\u001b[0m\u001b[1;33m(\u001b[0m\u001b[0mself\u001b[0m\u001b[1;33m)\u001b[0m\u001b[1;33m:\u001b[0m\u001b[1;33m\u001b[0m\u001b[0m\n\u001b[0;32m    186\u001b[0m         \u001b[1;31m# if self.mesh not in self._rhsDict:\u001b[0m\u001b[1;33m\u001b[0m\u001b[1;33m\u001b[0m\u001b[0m\n\u001b[1;32m--> 187\u001b[1;33m         \u001b[0mRHS\u001b[0m \u001b[1;33m=\u001b[0m \u001b[0mnp\u001b[0m\u001b[1;33m.\u001b[0m\u001b[0marray\u001b[0m\u001b[1;33m(\u001b[0m\u001b[1;33m[\u001b[0m\u001b[0msrc\u001b[0m\u001b[1;33m.\u001b[0m\u001b[0meval\u001b[0m\u001b[1;33m(\u001b[0m\u001b[0mself\u001b[0m\u001b[1;33m)\u001b[0m \u001b[1;32mfor\u001b[0m \u001b[0msrc\u001b[0m \u001b[1;32min\u001b[0m \u001b[0mself\u001b[0m\u001b[1;33m.\u001b[0m\u001b[0msurvey\u001b[0m\u001b[1;33m.\u001b[0m\u001b[0msrcList\u001b[0m\u001b[1;33m]\u001b[0m\u001b[1;33m)\u001b[0m\u001b[1;33m.\u001b[0m\u001b[0mT\u001b[0m\u001b[1;33m\u001b[0m\u001b[0m\n\u001b[0m\u001b[0;32m    188\u001b[0m         \u001b[1;31m# self._rhsDict[mesh] = RHS\u001b[0m\u001b[1;33m\u001b[0m\u001b[1;33m\u001b[0m\u001b[0m\n\u001b[0;32m    189\u001b[0m         \u001b[1;31m# return self._rhsDict[mesh]\u001b[0m\u001b[1;33m\u001b[0m\u001b[1;33m\u001b[0m\u001b[0m\n",
      "\u001b[1;32mC:\\Users\\micmitch\\Documents\\simpegdc\\simpegDCIP\\BaseDC.py\u001b[0m in \u001b[0;36meval\u001b[1;34m(self, prob)\u001b[0m\n\u001b[0;32m     62\u001b[0m         \u001b[1;31m# if mesh not in self._rhsDict:\u001b[0m\u001b[1;33m\u001b[0m\u001b[1;33m\u001b[0m\u001b[0m\n\u001b[0;32m     63\u001b[0m         \u001b[0mpts\u001b[0m \u001b[1;33m=\u001b[0m \u001b[1;33m[\u001b[0m\u001b[0mself\u001b[0m\u001b[1;33m.\u001b[0m\u001b[0mloc\u001b[0m\u001b[1;33m[\u001b[0m\u001b[1;36m0\u001b[0m\u001b[1;33m]\u001b[0m\u001b[1;33m,\u001b[0m \u001b[0mself\u001b[0m\u001b[1;33m.\u001b[0m\u001b[0mloc\u001b[0m\u001b[1;33m[\u001b[0m\u001b[1;36m1\u001b[0m\u001b[1;33m]\u001b[0m\u001b[1;33m]\u001b[0m\u001b[1;33m\u001b[0m\u001b[0m\n\u001b[1;32m---> 64\u001b[1;33m         \u001b[0minds\u001b[0m \u001b[1;33m=\u001b[0m \u001b[0mUtils\u001b[0m\u001b[1;33m.\u001b[0m\u001b[0mclosestPoints\u001b[0m\u001b[1;33m(\u001b[0m\u001b[0mprob\u001b[0m\u001b[1;33m.\u001b[0m\u001b[0mmesh\u001b[0m\u001b[1;33m,\u001b[0m \u001b[0mpts\u001b[0m\u001b[1;33m)\u001b[0m\u001b[1;33m\u001b[0m\u001b[0m\n\u001b[0m\u001b[0;32m     65\u001b[0m         \u001b[0mq\u001b[0m \u001b[1;33m=\u001b[0m \u001b[0mnp\u001b[0m\u001b[1;33m.\u001b[0m\u001b[0mzeros\u001b[0m\u001b[1;33m(\u001b[0m\u001b[0mprob\u001b[0m\u001b[1;33m.\u001b[0m\u001b[0mmesh\u001b[0m\u001b[1;33m.\u001b[0m\u001b[0mnC\u001b[0m\u001b[1;33m)\u001b[0m\u001b[1;33m\u001b[0m\u001b[0m\n\u001b[0;32m     66\u001b[0m         \u001b[0mq\u001b[0m\u001b[1;33m[\u001b[0m\u001b[0minds\u001b[0m\u001b[1;33m]\u001b[0m \u001b[1;33m=\u001b[0m \u001b[1;33m-\u001b[0m \u001b[0mself\u001b[0m\u001b[1;33m.\u001b[0m\u001b[0mcurrent\u001b[0m \u001b[1;33m*\u001b[0m \u001b[1;33m(\u001b[0m \u001b[0mnp\u001b[0m\u001b[1;33m.\u001b[0m\u001b[0mr_\u001b[0m\u001b[1;33m[\u001b[0m\u001b[1;36m1.\u001b[0m\u001b[1;33m,\u001b[0m \u001b[1;33m-\u001b[0m\u001b[1;36m1.\u001b[0m\u001b[1;33m]\u001b[0m \u001b[1;33m/\u001b[0m \u001b[0mprob\u001b[0m\u001b[1;33m.\u001b[0m\u001b[0mmesh\u001b[0m\u001b[1;33m.\u001b[0m\u001b[0mvol\u001b[0m\u001b[1;33m[\u001b[0m\u001b[0minds\u001b[0m\u001b[1;33m]\u001b[0m \u001b[1;33m)\u001b[0m\u001b[1;33m\u001b[0m\u001b[0m\n",
      "\u001b[1;32mC:\\Users\\micmitch\\Documents\\UBC\\GIF\\Programs\\SimPEG\\SimPEG\\Utils\\meshutils.pyc\u001b[0m in \u001b[0;36mclosestPoints\u001b[1;34m(mesh, pts, gridLoc)\u001b[0m\n\u001b[0;32m     91\u001b[0m     \"\"\"\n\u001b[0;32m     92\u001b[0m \u001b[1;33m\u001b[0m\u001b[0m\n\u001b[1;32m---> 93\u001b[1;33m     \u001b[0mpts\u001b[0m \u001b[1;33m=\u001b[0m \u001b[0masArray_N_x_Dim\u001b[0m\u001b[1;33m(\u001b[0m\u001b[0mpts\u001b[0m\u001b[1;33m,\u001b[0m \u001b[0mmesh\u001b[0m\u001b[1;33m.\u001b[0m\u001b[0mdim\u001b[0m\u001b[1;33m)\u001b[0m\u001b[1;33m\u001b[0m\u001b[0m\n\u001b[0m\u001b[0;32m     94\u001b[0m     \u001b[0mgrid\u001b[0m \u001b[1;33m=\u001b[0m \u001b[0mgetattr\u001b[0m\u001b[1;33m(\u001b[0m\u001b[0mmesh\u001b[0m\u001b[1;33m,\u001b[0m \u001b[1;34m'grid'\u001b[0m \u001b[1;33m+\u001b[0m \u001b[0mgridLoc\u001b[0m\u001b[1;33m)\u001b[0m\u001b[1;33m\u001b[0m\u001b[0m\n\u001b[0;32m     95\u001b[0m     \u001b[0mnodeInds\u001b[0m \u001b[1;33m=\u001b[0m \u001b[0mnp\u001b[0m\u001b[1;33m.\u001b[0m\u001b[0mempty\u001b[0m\u001b[1;33m(\u001b[0m\u001b[0mpts\u001b[0m\u001b[1;33m.\u001b[0m\u001b[0mshape\u001b[0m\u001b[1;33m[\u001b[0m\u001b[1;36m0\u001b[0m\u001b[1;33m]\u001b[0m\u001b[1;33m,\u001b[0m \u001b[0mdtype\u001b[0m\u001b[1;33m=\u001b[0m\u001b[0mint\u001b[0m\u001b[1;33m)\u001b[0m\u001b[1;33m\u001b[0m\u001b[0m\n",
      "\u001b[1;32mC:\\Users\\micmitch\\Documents\\UBC\\GIF\\Programs\\SimPEG\\SimPEG\\Utils\\codeutils.pyc\u001b[0m in \u001b[0;36masArray_N_x_Dim\u001b[1;34m(pts, dim)\u001b[0m\n\u001b[0;32m    185\u001b[0m             \u001b[0mpts\u001b[0m \u001b[1;33m=\u001b[0m \u001b[0mpts\u001b[0m\u001b[1;33m[\u001b[0m\u001b[1;33m:\u001b[0m\u001b[1;33m,\u001b[0m\u001b[0mnp\u001b[0m\u001b[1;33m.\u001b[0m\u001b[0mnewaxis\u001b[0m\u001b[1;33m]\u001b[0m\u001b[1;33m\u001b[0m\u001b[0m\n\u001b[0;32m    186\u001b[0m \u001b[1;33m\u001b[0m\u001b[0m\n\u001b[1;32m--> 187\u001b[1;33m         \u001b[1;32massert\u001b[0m \u001b[0mpts\u001b[0m\u001b[1;33m.\u001b[0m\u001b[0mshape\u001b[0m\u001b[1;33m[\u001b[0m\u001b[1;36m1\u001b[0m\u001b[1;33m]\u001b[0m \u001b[1;33m==\u001b[0m \u001b[0mdim\u001b[0m\u001b[1;33m,\u001b[0m \u001b[1;34m\"pts must be a column vector of shape (nPts, %d) not (%d, %d)\"\u001b[0m \u001b[1;33m%\u001b[0m \u001b[1;33m(\u001b[0m\u001b[1;33m(\u001b[0m\u001b[0mdim\u001b[0m\u001b[1;33m,\u001b[0m\u001b[1;33m)\u001b[0m\u001b[1;33m+\u001b[0m\u001b[0mpts\u001b[0m\u001b[1;33m.\u001b[0m\u001b[0mshape\u001b[0m\u001b[1;33m)\u001b[0m\u001b[1;33m\u001b[0m\u001b[0m\n\u001b[0m\u001b[0;32m    188\u001b[0m \u001b[1;33m\u001b[0m\u001b[0m\n\u001b[0;32m    189\u001b[0m         \u001b[1;32mreturn\u001b[0m \u001b[0mpts\u001b[0m\u001b[1;33m\u001b[0m\u001b[0m\n",
      "\u001b[1;31mTypeError\u001b[0m: not all arguments converted during string formatting"
     ]
    }
   ],
   "source": [
    "sigmaBackground = np.ones(mesh.nC)*sigmaFull\n",
    "\n",
    "# %%time\n",
    "dataPred = survey.dpred(sigmaBackground)"
   ]
  },
  {
   "cell_type": "code",
   "execution_count": null,
   "metadata": {
    "collapsed": false
   },
   "outputs": [],
   "source": [
    "u1 = problem.fields(sigma)\n",
    "u2 = problem.fields(sigmaBackground)"
   ]
  },
  {
   "cell_type": "code",
   "execution_count": null,
   "metadata": {
    "collapsed": false
   },
   "outputs": [],
   "source": [
    "Msig1 = Utils.sdiag(1./(mesh.aveF2CC.T*(1./sigma)))\n",
    "Msig2 = Utils.sdiag(1./(mesh.aveF2CC.T*(1./sigmaBackground)))\n"
   ]
  },
  {
   "cell_type": "code",
   "execution_count": null,
   "metadata": {
    "collapsed": true
   },
   "outputs": [],
   "source": [
    "j1 = Msig1*mesh.cellGrad*u1[tx, 'phi_sol']\n",
    "j2 = Msig2*mesh.cellGrad*u2[tx, 'phi_sol']"
   ]
  },
  {
   "cell_type": "code",
   "execution_count": null,
   "metadata": {
    "collapsed": false
   },
   "outputs": [],
   "source": [
    "us = u1-u2\n",
    "js = j1-j2\n"
   ]
  },
  {
   "cell_type": "code",
   "execution_count": null,
   "metadata": {
    "collapsed": false
   },
   "outputs": [],
   "source": [
    "mesh.plotSlice(mesh.aveF2CCV*j1, vType='CCv', normal='Y', view='vec', streamOpts={\"density\":3, \"color\":'w'})\n",
    "xlim(-300, 300)\n",
    "ylim(-300, 0)"
   ]
  },
  {
   "cell_type": "code",
   "execution_count": null,
   "metadata": {
    "collapsed": true
   },
   "outputs": [],
   "source": [
    "mesh.plotSlice(mesh.aveF2CCV*js, vType='CCv', normal='Y', view='vec', streamOpts={\"density\":3, \"color\":'w'})\n",
    "xlim(-300, 300)\n",
    "ylim(-300, 0)"
   ]
  },
  {
   "cell_type": "code",
   "execution_count": null,
   "metadata": {
    "collapsed": false
   },
   "outputs": [],
   "source": []
  },
  {
   "cell_type": "code",
   "execution_count": null,
   "metadata": {
    "collapsed": false
   },
   "outputs": [],
   "source": [
    "\n",
    "    "
   ]
  },
  {
   "cell_type": "code",
   "execution_count": null,
   "metadata": {
    "collapsed": true
   },
   "outputs": [],
   "source": []
  },
  {
   "cell_type": "code",
   "execution_count": null,
   "metadata": {
    "collapsed": false
   },
   "outputs": [],
   "source": []
  },
  {
   "cell_type": "code",
   "execution_count": null,
   "metadata": {
    "collapsed": true
   },
   "outputs": [],
   "source": []
  }
 ],
 "metadata": {
  "kernelspec": {
   "display_name": "Python 2",
   "language": "python",
   "name": "python2"
  },
  "language_info": {
   "codemirror_mode": {
    "name": "ipython",
    "version": 2
   },
   "file_extension": ".py",
   "mimetype": "text/x-python",
   "name": "python",
   "nbconvert_exporter": "python",
   "pygments_lexer": "ipython2",
   "version": "2.7.11"
  }
 },
 "nbformat": 4,
 "nbformat_minor": 0
}
