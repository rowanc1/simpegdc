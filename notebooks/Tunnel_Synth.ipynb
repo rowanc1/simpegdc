{
 "cells": [
  {
   "cell_type": "code",
   "execution_count": 1,
   "metadata": {
    "collapsed": false
   },
   "outputs": [
    {
     "name": "stdout",
     "output_type": "stream",
     "text": [
      "Populating the interactive namespace from numpy and matplotlib\n"
     ]
    }
   ],
   "source": [
    "import sys\n",
    "sys.path.append('C:\\Users\\micmitch\\Documents\\UBC\\GIF\\Programs\\SimPEG')\n",
    "import SimPEG as simpeg\n",
    "import simpegDC as DC\n",
    "\n",
    "import numpy as np\n",
    "import scipy\n",
    "import matplotlib.pyplot as plt\n",
    "import itertools\n",
    "\n",
    "%pylab inline"
   ]
  },
  {
   "cell_type": "code",
   "execution_count": 2,
   "metadata": {
    "collapsed": false
   },
   "outputs": [],
   "source": [
    "# hx = [(cs,7, -1.3),(cs,51),(cs,7, 1.3)]\n",
    "# hy = [(cs,7, -1.3),(cs,63),(cs,7, 1.3)]\n",
    "# hz = [(cs,7, -1.3),(cs,51),(cs,7, 1.3)]\n",
    "\n",
    "# Minimum cell size in each direction\n",
    "dx = 1.\n",
    "dy = 1.\n",
    "dz = 1.\n",
    "\n",
    "# Number of core cells in each direction\n",
    "nCoreX = 51.\n",
    "nCoreY = 63.\n",
    "nCoreZ = 51.\n",
    "\n",
    "# Cell widths\n",
    "hx = [(dx,nCoreX)]\n",
    "hy = [(dy,nCoreY)]\n",
    "hz = [(dz,nCoreZ)]\n",
    "\n",
    "# Mesh origin (Bottom SW corner)\n",
    "x0 = 0.\n",
    "y0 = -12.\n",
    "z0 = 0."
   ]
  },
  {
   "cell_type": "code",
   "execution_count": 3,
   "metadata": {
    "collapsed": false
   },
   "outputs": [
    {
     "name": "stdout",
     "output_type": "stream",
     "text": [
      "  ---- 3-D TensorMesh ----  \n",
      "   x0: 0.00\n",
      "   y0: -12.00\n",
      "   z0: 0.00\n",
      "  nCx: 51\n",
      "  nCy: 63\n",
      "  nCz: 51\n",
      "   hx: 51*1.00\n",
      "   hy: 63*1.00\n",
      "   hz: 51*1.00\n"
     ]
    }
   ],
   "source": [
    "mesh = simpeg.Mesh.TensorMesh([hx, hy, hz],[x0,y0,z0])\n",
    "print mesh"
   ]
  },
  {
   "cell_type": "code",
   "execution_count": 4,
   "metadata": {
    "collapsed": false
   },
   "outputs": [
    {
     "data": {
      "text/plain": [
       "<matplotlib.text.Text at 0x1ac605f8>"
      ]
     },
     "execution_count": 4,
     "metadata": {},
     "output_type": "execute_result"
    },
    {
     "data": {
      "image/png": "[encoded data removed]",
      "text/plain": [
       "<matplotlib.figure.Figure at 0x1abd3630>"
      ]
     },
     "metadata": {},
     "output_type": "display_data"
    }
   ],
   "source": [
    "mesh.plotGrid()\n",
    "plt.title('Simple Mesh')\n",
    "plt.xlabel('x')\n",
    "plt.ylabel('y')\n",
    "# ax.set_zlabel('z')"
   ]
  },
  {
   "cell_type": "code",
   "execution_count": 5,
   "metadata": {
    "collapsed": false
   },
   "outputs": [],
   "source": [
    "# Define electrode locations\n",
    "elecLoc = np.array([[5.5, 15.5, 25.5], \n",
    "    [ 5.5, 20.5, 25.5 ],\n",
    "    [ 5.5, 25.5, 25.5 ],\n",
    "    [ 5.5, 30.5, 25.5 ],\n",
    "    [ 5.5, 35.5, 25.5 ],\n",
    "    [ 5.5, 40.5, 25.5 ],\n",
    "    [ 5.5, 45.5, 25.5 ],\n",
    "    [ 10.5, 45.5, 25.5 ],\n",
    "    [ 15.5, 45.5, 25.5 ],\n",
    "    [ 20.5, 45.5, 25.5 ],\n",
    "    [ 25.5, 45.5, 25.5 ],\n",
    "    [ 30.5, 45.5, 25.5 ],\n",
    "    [ 35.5, 45.5, 25.5 ],\n",
    "    [ 40.5, 45.5, 25.5 ],\n",
    "    [ 45.5, 45.5, 25.5 ],\n",
    "    [ 45.5, 40.5, 25.5 ],\n",
    "    [ 45.5, 35.5, 25.5 ],\n",
    "    [ 45.5, 30.5, 25.5 ],\n",
    "    [ 45.5, 25.5, 25.5 ],\n",
    "    [ 45.5, 20.5, 25.5 ],\n",
    "    [ 45.5, 15.5, 25.5 ],\n",
    "    [ 45.5, 10.5, 25.5 ],\n",
    "    [ 45.5,  5.5, 25.5 ],\n",
    "    [ 45.5,  0.5, 25.5 ],\n",
    "    [ 45.5, -4.5, 25.5 ],\n",
    "    [ 45.5, -9.5, 25.5 ]])\n",
    "\n"
   ]
  },
  {
   "cell_type": "code",
   "execution_count": 27,
   "metadata": {
    "collapsed": false
   },
   "outputs": [],
   "source": [
    "# Create electrode sequence\n",
    "\n",
    "# Combinations of electrodes for dipole-dipole measurements\n",
    "\n",
    "nElec = elecLoc.shape[0]\n",
    "# elecInd = np.linspace(0,nElec-1,nElec-1)\n",
    "elecInd = np.arange(nElec)\n",
    "elecSeqObj = itertools.combinations(elecInd,4) # n choose k combinations\n",
    "\n",
    "# Extract data from combinations object\n",
    "elecSeqList = []\n",
    "for i in elecSeqObj:\n",
    "    elecSeqList.append(tuple(i))\n",
    "    \n",
    "elecSeq = np.array(elecSeqList)\n",
    "# elecSeq.shape\n",
    "\n",
    "# Take permutations of each combination\n",
    "FullElecSeqList = []\n",
    "for row in elecSeq:\n",
    "    permObj = itertools.permutations(row)\n",
    "    for j in permObj:\n",
    "        FullElecSeqList.append(tuple(j))\n",
    "        \n",
    "FullElecSeq = np.array(FullElecSeqList)\n",
    "# FullElecSeq.shape\n",
    "# check = FullElecSeq[0:30,:]\n",
    "# print check\n",
    "\n",
    "\n",
    "# Sort FullElecSeq by Tx columns\n",
    "FullElecSeq_Tx = FullElecSeq[:,0:2].copy() #np.hstack([[FullElecSeq[:,0:1]], [FullElecSeq[:,1:2]]])\n",
    "\n",
    "FullElecSeq_TxSort = np.array(np.sort(FullElecSeq_Tx, axis=1))\n",
    "\n",
    "\n",
    "# Sort FullElecSeq by Rx columns\n",
    "FullElecSeq_Rx = FullElecSeq[:,2:4].copy() \n",
    "\n",
    "FullElecSeq_RxSort = np.array(np.sort(FullElecSeq_Rx, axis=1))\n",
    "\n",
    "\n",
    "# Combine sorted Tx and Rx arrays\n",
    "FullElecSeq_Combined = np.hstack([FullElecSeq_TxSort,FullElecSeq_RxSort])\n",
    "# check = FullElecSeq_Combined[0:30,:]\n",
    "# print check\n",
    "FullElecSeq_Combined.shape\n",
    "\n",
    "\n",
    "# Find unique rows\n",
    "def unique_rows(A, return_index=False, return_inverse=False):\n",
    "    \"\"\"\n",
    "    Similar to MATLAB's unique(A, 'rows'), this returns B, I, J\n",
    "    where B is the unique rows of A and I and J satisfy\n",
    "    A = B[J,:] and B = A[I,:]\n",
    "\n",
    "    Returns I if return_index is True\n",
    "    Returns J if return_inverse is True\n",
    "    \n",
    "    From bfroehle (https://github.com/numpy/numpy/issues/2871) \n",
    "    \"\"\"\n",
    "    A = np.require(A, requirements='C')\n",
    "    assert A.ndim == 2, \"array must be 2-dim'l\"\n",
    "\n",
    "    B = np.unique(A.view([('', A.dtype)]*A.shape[1]),\n",
    "               return_index=return_index,\n",
    "               return_inverse=return_inverse)\n",
    "\n",
    "    if return_index or return_inverse:\n",
    "        return (B[0].view(A.dtype).reshape((-1, A.shape[1]), order='C'),) \\\n",
    "            + B[1:]\n",
    "    else:\n",
    "        return B.view(A.dtype).reshape((-1, A.shape[1]), order='C')\n",
    "    \n",
    "FullElecSeq_Unique  = unique_rows(FullElecSeq_Combined)\n",
    "# print FullElecSeq_Unique.shape\n",
    "# print FullElecSeq_Unique[1:20,:]\n",
    "# print FullElecSeq_Unique[-20::,:]\n"
   ]
  },
  {
   "cell_type": "code",
   "execution_count": 26,
   "metadata": {
    "collapsed": false
   },
   "outputs": [],
   "source": [
    "TxKey = unique_rows(FullElecSeq_Unique[:,0:2]);\n",
    "# print TxKey\n",
    "\n",
    "nTx = TxKey.shape[0]\n",
    "# print nTx\n",
    "\n",
    "simpeg.Survey.\n",
    "\n"
   ]
  },
  {
   "cell_type": "code",
   "execution_count": null,
   "metadata": {
    "collapsed": false
   },
   "outputs": [],
   "source": []
  },
  {
   "cell_type": "code",
   "execution_count": null,
   "metadata": {
    "collapsed": false
   },
   "outputs": [],
   "source": [
    "# Create synthetic model\n",
    "sigmaFull = 1e-4\n",
    "sigma = np.ones(mesh.nC)*sigmaFull\n",
    "\n",
    "# Add tunnels\n",
    "sigmaTunnel = 1e-8\n",
    "\n",
    "t1_1 = np.array([2,49,24])\n",
    "t1_2 = np.array([5,15,27])\n",
    "tunnel1 = simpeg.Utils.ModelBuilder.getIndicesBlock(t1_1,t1_2, mesh.gridCC)\n",
    "sigma[tunnel1] = sigmaTunnel\n",
    "\n",
    "t2_1 = [2,49,24];\n",
    "t2_2 = [49,46,27];\n",
    "tunnel2 = simpeg.Utils.ModelBuilder.getIndicesBlock(t2_1,t2_2, mesh.gridCC)\n",
    "sigma[tunnel2] = sigmaTunnel\n",
    "\n",
    "t3_1 = [46,49,24];\n",
    "t3_2 = [49,-10,27];\n",
    "tunnel3 = simpeg.Utils.ModelBuilder.getIndicesBlock(t3_1,t3_2, mesh.gridCC)\n",
    "sigma[tunnel3] = sigmaTunnel\n",
    "\n",
    "# Add conductive block\n",
    "sigmaBlk1 = 10;\n",
    "b1_1 = [20,30,16];\n",
    "b1_2 = [30,20,35];\n",
    "blk1 = simpeg.Utils.ModelBuilder.getIndicesBlock(b1_1,b1_2, mesh.gridCC)\n",
    "sigma[blk1] = sigmaBlk1\n",
    "\n"
   ]
  },
  {
   "cell_type": "code",
   "execution_count": null,
   "metadata": {
    "collapsed": false
   },
   "outputs": [],
   "source": [
    "mesh.plotSlice(sigma, normal='X', ind=25, grid=True)\n",
    "plt.gca().set_aspect('equal', adjustable='box')\n",
    "plt.draw()\n",
    "\n",
    "mesh.plotSlice(sigma, normal='Y', ind=34, grid=True)\n",
    "plt.gca().set_aspect('equal', adjustable='box')\n",
    "plt.draw()\n",
    "\n",
    "mesh.plotSlice(sigma, normal='Z', ind=25, grid=True)\n",
    "plt.gca().set_aspect('equal', adjustable='box')\n",
    "# plt.colormaps()\n",
    "# plt.colorbar()\n",
    "plt.draw()\n",
    "\n",
    "\n",
    "# How would I plot these using a log colorscale and insert a colorbar?"
   ]
  },
  {
   "cell_type": "code",
   "execution_count": null,
   "metadata": {
    "collapsed": false
   },
   "outputs": [],
   "source": []
  },
  {
   "cell_type": "code",
   "execution_count": null,
   "metadata": {
    "collapsed": false
   },
   "outputs": [],
   "source": [
    "\n"
   ]
  },
  {
   "cell_type": "code",
   "execution_count": null,
   "metadata": {
    "collapsed": true
   },
   "outputs": [],
   "source": []
  },
  {
   "cell_type": "code",
   "execution_count": null,
   "metadata": {
    "collapsed": false
   },
   "outputs": [],
   "source": [
    "\n"
   ]
  },
  {
   "cell_type": "code",
   "execution_count": null,
   "metadata": {
    "collapsed": false
   },
   "outputs": [],
   "source": []
  },
  {
   "cell_type": "code",
   "execution_count": null,
   "metadata": {
    "collapsed": true
   },
   "outputs": [],
   "source": []
  },
  {
   "cell_type": "code",
   "execution_count": null,
   "metadata": {
    "collapsed": false
   },
   "outputs": [],
   "source": []
  },
  {
   "cell_type": "code",
   "execution_count": null,
   "metadata": {
    "collapsed": false
   },
   "outputs": [],
   "source": [
    "\n",
    "    "
   ]
  },
  {
   "cell_type": "code",
   "execution_count": null,
   "metadata": {
    "collapsed": true
   },
   "outputs": [],
   "source": []
  },
  {
   "cell_type": "code",
   "execution_count": null,
   "metadata": {
    "collapsed": false
   },
   "outputs": [],
   "source": []
  },
  {
   "cell_type": "code",
   "execution_count": null,
   "metadata": {
    "collapsed": true
   },
   "outputs": [],
   "source": []
  }
 ],
 "metadata": {
  "kernelspec": {
   "display_name": "Python 2",
   "language": "python",
   "name": "python2"
  },
  "language_info": {
   "codemirror_mode": {
    "name": "ipython",
    "version": 2
   },
   "file_extension": ".py",
   "mimetype": "text/x-python",
   "name": "python",
   "nbconvert_exporter": "python",
   "pygments_lexer": "ipython2",
   "version": "2.7.11"
  }
 },
 "nbformat": 4,
 "nbformat_minor": 0
}
