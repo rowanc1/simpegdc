{
 "cells": [
  {
   "cell_type": "code",
   "execution_count": 1,
   "metadata": {
    "collapsed": false
   },
   "outputs": [
    {
     "name": "stdout",
     "output_type": "stream",
     "text": [
      "Populating the interactive namespace from numpy and matplotlib\n"
     ]
    },
    {
     "name": "stderr",
     "output_type": "stream",
     "text": [
      "WARNING: pylab import has clobbered these variables: ['linalg']\n",
      "`%matplotlib` prevents importing * from pylab and numpy\n"
     ]
    }
   ],
   "source": [
    "from SimPEG import *\n",
    "import simpegDCIP as DC\n",
    "%pylab inline\n",
    "from pymatsolver import MumpsSolver"
   ]
  },
  {
   "cell_type": "code",
   "execution_count": 2,
   "metadata": {
    "collapsed": false
   },
   "outputs": [],
   "source": [
    "cs = 12.5\n",
    "nc = 500/cs+1\n",
    "hx = [(cs,7, -1.3),(cs,nc),(cs,7, 1.3)]\n",
    "hy = [(cs,7, -1.3),(cs,int(nc/2+1)),(cs,7, 1.3)]\n",
    "hz = [(cs,7, -1.3),(cs,int(nc/2+1))]"
   ]
  },
  {
   "cell_type": "code",
   "execution_count": 3,
   "metadata": {
    "collapsed": false
   },
   "outputs": [
    {
     "name": "stdout",
     "output_type": "stream",
     "text": [
      "  ---- 3-D TensorMesh ----  \n",
      "   x0: -541.97\n",
      "   y0: -416.97\n",
      "   z0: -548.22\n",
      "  nCx: 55\n",
      "  nCy: 35\n",
      "  nCz: 28\n",
      "   hx: 78.44, 60.34, 46.41, 35.70, 27.46, 21.13, 16.25, 41*12.50, 16.25, 21.13, 27.46, 35.70, 46.41, 60.34, 78.44\n",
      "   hy: 78.44, 60.34, 46.41, 35.70, 27.46, 21.13, 16.25, 21*12.50, 16.25, 21.13, 27.46, 35.70, 46.41, 60.34, 78.44\n",
      "   hz: 78.44, 60.34, 46.41, 35.70, 27.46, 21.13, 16.25, 21*12.50\n"
     ]
    }
   ],
   "source": [
    "mesh = Mesh.TensorMesh([hx, hy, hz], 'CCN')\n",
    "print mesh"
   ]
  },
  {
   "cell_type": "code",
   "execution_count": 4,
   "metadata": {
    "collapsed": false
   },
   "outputs": [],
   "source": [
    "sighalf = 1e-2\n",
    "sigma = np.ones(mesh.nC)*sighalf\n",
    "p0 = np.r_[-50., 50., -50.]\n",
    "p1 = np.r_[ 50.,-50., -150.]\n",
    "blk_ind = Utils.ModelBuilder.getIndecesBlock(p0, p1, mesh.gridCC)\n",
    "sigma[blk_ind] = 1e-3"
   ]
  },
  {
   "cell_type": "code",
   "execution_count": 5,
   "metadata": {
    "collapsed": false
   },
   "outputs": [],
   "source": [
    "nElecs = 21\n",
    "x_temp = np.linspace(-250, 250, nElecs)\n",
    "aSpacing = x_temp[1]-x_temp[0]\n",
    "y_temp = 0.\n",
    "xyz = Utils.ndgrid(x_temp, np.r_[y_temp], np.r_[0.])"
   ]
  },
  {
   "cell_type": "code",
   "execution_count": 6,
   "metadata": {
    "collapsed": false
   },
   "outputs": [
    {
     "name": "stdout",
     "output_type": "stream",
     "text": [
      "63\n"
     ]
    }
   ],
   "source": [
    "srcList = DC.Examples.WennerArray.getSrcList(nElecs,aSpacing)\n",
    "survey = DC.SurveyDC(srcList)\n",
    "print len(survey.srcList)"
   ]
  },
  {
   "cell_type": "code",
   "execution_count": 7,
   "metadata": {
    "collapsed": false
   },
   "outputs": [
    {
     "data": {
      "text/plain": [
       "[<matplotlib.lines.Line2D at 0x10db0fa50>]"
      ]
     },
     "execution_count": 7,
     "metadata": {},
     "output_type": "execute_result"
    },
    {
     "data": {
      "image/png": "[encoded data removed]",
      "text/plain": [
       "<matplotlib.figure.Figure at 0x10d9ac710>"
      ]
     },
     "metadata": {},
     "output_type": "display_data"
    }
   ],
   "source": [
    "fig, ax = plt.subplots(1,1, figsize = (6.5,5))\n",
    "indz = 22\n",
    "dat = mesh.plotSlice(sigma, grid=True, ax = ax, ind=indz)\n",
    "ax.set_xlim(-300, 300)\n",
    "ax.set_ylim(-300, 300)\n",
    "cb = plt.colorbar(dat[0])\n",
    "ax.set_title('Depth at '+str(mesh.vectorCCz[indz])+' m')\n",
    "\n",
    "txLocs = np.array([[tx.loc[0][0], tx.loc[1][0]] for tx in survey.srcList]).flatten()\n",
    "ax.plot(txLocs, txLocs*0, 'w.', ms = 3)"
   ]
  },
  {
   "cell_type": "code",
   "execution_count": 9,
   "metadata": {
    "collapsed": false
   },
   "outputs": [],
   "source": [
    "expmap = Maps.ExpMap(mesh)\n",
    "m2to3  = Maps.Map2Dto3D(mesh,normal='Y')\n",
    "imap   = Maps.IdentityMap(mesh)\n",
    "problem = DC.ProblemDC_CC(mesh, mapping= imap )\n",
    "problem.Solver = MumpsSolver\n",
    "problem.pair(survey)"
   ]
  },
  {
   "cell_type": "code",
   "execution_count": 10,
   "metadata": {
    "collapsed": false
   },
   "outputs": [
    {
     "data": {
      "text/plain": [
       "[<matplotlib.lines.Line2D at 0x1038621d0>,\n",
       " <matplotlib.lines.Line2D at 0x103862450>]"
      ]
     },
     "execution_count": 10,
     "metadata": {},
     "output_type": "execute_result"
    },
    {
     "data": {
      "image/png": "[encoded data removed]",
      "text/plain": [
       "<matplotlib.figure.Figure at 0x10e82c610>"
      ]
     },
     "metadata": {},
     "output_type": "display_data"
    }
   ],
   "source": [
    "datasyn = survey.dpred(sighalf*np.ones(mesh.nC))\n",
    "survey.makeSyntheticData(sigma,std=0.01,force=True)\n",
    "plot(np.log(np.c_[survey.dobs,datasyn]))"
   ]
  },
  {
   "cell_type": "code",
   "execution_count": 11,
   "metadata": {
    "collapsed": false
   },
   "outputs": [],
   "source": [
    "problem.mapping = expmap * m2to3"
   ]
  },
  {
   "cell_type": "code",
   "execution_count": 12,
   "metadata": {
    "collapsed": false
   },
   "outputs": [],
   "source": [
    "dmis = DataMisfit.l2_DataMisfit(survey)\n",
    "reg = Regularization.Tikhonov(mesh,mapping=m2to3)\n",
    "opt = Optimization.InexactGaussNewton(maxIter=7,tolX=1e-15)\n",
    "opt.remember('xc')\n",
    "invProb = InvProblem.BaseInvProblem(dmis, reg, opt)\n",
    "beta = Directives.BetaEstimate_ByEig(beta0_ratio=1e1)\n",
    "betaSched = Directives.BetaSchedule(coolingFactor=5, coolingRate=2)\n",
    "inv = Inversion.BaseInversion(invProb, directiveList=[beta,betaSched])"
   ]
  },
  {
   "cell_type": "code",
   "execution_count": 13,
   "metadata": {
    "collapsed": false
   },
   "outputs": [
    {
     "name": "stdout",
     "output_type": "stream",
     "text": [
      "SimPEG.InvProblem will set Regularization.mref to m0.\n",
      "SimPEG.InvProblem is setting bfgsH0 to the inverse of the eval2Deriv.\n",
      "                    ***Done using same solver as the problem***\n",
      "SimPEG.l2_DataMisfit is creating default weightings for Wd.\n",
      "============================ Inexact Gauss Newton ============================\n",
      "  #     beta     phi_d     phi_m       f      |proj(x-g)-x|  LS    Comment   \n",
      "-----------------------------------------------------------------------------\n",
      "   0  7.28e+00  1.86e+03  1.05e+04  7.84e+04    2.20e+03      0              \n",
      "   1  7.28e+00  6.57e+02  1.06e+04  7.80e+04    1.15e+03      1              \n",
      "   2  1.46e+00  5.58e+02  1.06e+04  1.61e+04    1.03e+03      3   Skip BFGS  \n",
      "   3  1.46e+00  1.36e+02  1.08e+04  1.59e+04    1.69e+02      0   Skip BFGS  \n",
      "   4  2.91e-01  8.24e+01  1.07e+04  3.20e+03    2.05e+02      0              \n",
      "   5  2.91e-01  4.61e+01  1.07e+04  3.16e+03    1.35e+02      0   Skip BFGS  \n",
      "   6  5.83e-02  4.40e+01  1.07e+04  6.65e+02    1.16e+02      0              \n",
      "   7  5.83e-02  3.99e+01  1.07e+04  6.61e+02    1.35e+02      0              \n",
      "------------------------- STOP! -------------------------\n",
      "1 : |fc-fOld| = 4.7528e+00 <= tolF*(1+|f0|) = 7.8397e+03\n",
      "0 : |xc-x_last| = 4.6314e-01 <= tolX*(1+|x0|) = 1.8172e-13\n",
      "0 : |proj(x-g)-x|    = 1.3494e+02 <= tolG          = 1.0000e-01\n",
      "0 : |proj(x-g)-x|    = 1.3494e+02 <= 1e3*eps       = 1.0000e-02\n",
      "1 : maxIter   =       7    <= iter          =      7\n",
      "------------------------- DONE! -------------------------\n"
     ]
    }
   ],
   "source": [
    "m0 = np.log(np.ones(problem.mapping.nP)*sighalf)\n",
    "mopt = inv.run(m0)"
   ]
  },
  {
   "cell_type": "code",
   "execution_count": 14,
   "metadata": {
    "collapsed": false
   },
   "outputs": [
    {
     "data": {
      "text/plain": [
       "<matplotlib.colorbar.Colorbar instance at 0x10fcbaa28>"
      ]
     },
     "execution_count": 14,
     "metadata": {},
     "output_type": "execute_result"
    },
    {
     "data": {
      "image/png": "[encoded data removed]",
      "text/plain": [
       "<matplotlib.figure.Figure at 0x103879a90>"
      ]
     },
     "metadata": {},
     "output_type": "display_data"
    }
   ],
   "source": [
    "colorbar(mesh.plotSlice(np.log10(expmap * m2to3 * mopt), normal='Y', ind=indz, grid=True)[0])"
   ]
  },
  {
   "cell_type": "code",
   "execution_count": 15,
   "metadata": {
    "collapsed": false
   },
   "outputs": [],
   "source": [
    "dpred = survey.dpred(mopt)"
   ]
  },
  {
   "cell_type": "code",
   "execution_count": 16,
   "metadata": {
    "collapsed": false
   },
   "outputs": [
    {
     "data": {
      "text/plain": [
       "[<matplotlib.lines.Line2D at 0x10f42a790>,\n",
       " <matplotlib.lines.Line2D at 0x10f42aa10>]"
      ]
     },
     "execution_count": 16,
     "metadata": {},
     "output_type": "execute_result"
    },
    {
     "data": {
      "image/png": "[encoded data removed]",
      "text/plain": [
       "<matplotlib.figure.Figure at 0x10fa4d110>"
      ]
     },
     "metadata": {},
     "output_type": "display_data"
    }
   ],
   "source": [
    "plot(np.c_[dpred,survey.dobs])"
   ]
  },
  {
   "cell_type": "code",
   "execution_count": 16,
   "metadata": {
    "collapsed": false
   },
   "outputs": [],
   "source": []
  },
  {
   "cell_type": "code",
   "execution_count": null,
   "metadata": {
    "collapsed": false
   },
   "outputs": [],
   "source": []
  }
 ],
 "metadata": {
  "kernelspec": {
   "display_name": "Python 2",
   "language": "python",
   "name": "python2"
  },
  "language_info": {
   "codemirror_mode": {
    "name": "ipython",
    "version": 2
   },
   "file_extension": ".py",
   "mimetype": "text/x-python",
   "name": "python",
   "nbconvert_exporter": "python",
   "pygments_lexer": "ipython2",
   "version": "2.7.11"
  }
 },
 "nbformat": 4,
 "nbformat_minor": 0
}
