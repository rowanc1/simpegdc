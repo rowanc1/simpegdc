{
 "cells": [
  {
   "cell_type": "code",
   "execution_count": 1,
   "metadata": {
    "collapsed": false
   },
   "outputs": [
    {
     "name": "stdout",
     "output_type": "stream",
     "text": [
      "Populating the interactive namespace from numpy and matplotlib\n"
     ]
    },
    {
     "name": "stderr",
     "output_type": "stream",
     "text": [
      "WARNING: pylab import has clobbered these variables: ['linalg']\n",
      "`%matplotlib` prevents importing * from pylab and numpy\n"
     ]
    }
   ],
   "source": [
    "from SimPEG import *\n",
    "import simpegDCIP as DC\n",
    "%pylab inline\n",
    "from pymatsolver import MumpsSolver"
   ]
  },
  {
   "cell_type": "code",
   "execution_count": 2,
   "metadata": {
    "collapsed": false
   },
   "outputs": [],
   "source": [
    "cs = 12.5\n",
    "nc = 500/cs+1\n",
    "hx = [(cs,7, -1.3),(cs,nc),(cs,7, 1.3)]\n",
    "hy = [(cs,7, -1.3),(cs,int(nc/2+1)),(cs,7, 1.3)]\n",
    "hz = [(cs,7, -1.3),(cs,int(nc/2+1))]"
   ]
  },
  {
   "cell_type": "code",
   "execution_count": 3,
   "metadata": {
    "collapsed": false
   },
   "outputs": [
    {
     "name": "stdout",
     "output_type": "stream",
     "text": [
      "  ---- 3-D TensorMesh ----  \n",
      "   x0: -541.97\n",
      "   y0: -416.97\n",
      "   z0: -548.22\n",
      "  nCx: 55\n",
      "  nCy: 35\n",
      "  nCz: 28\n",
      "   hx: 78.44, 60.34, 46.41, 35.70, 27.46, 21.13, 16.25, 41*12.50, 16.25, 21.13, 27.46, 35.70, 46.41, 60.34, 78.44\n",
      "   hy: 78.44, 60.34, 46.41, 35.70, 27.46, 21.13, 16.25, 21*12.50, 16.25, 21.13, 27.46, 35.70, 46.41, 60.34, 78.44\n",
      "   hz: 78.44, 60.34, 46.41, 35.70, 27.46, 21.13, 16.25, 21*12.50\n"
     ]
    }
   ],
   "source": [
    "mesh = Mesh.TensorMesh([hx, hy, hz], 'CCN')\n",
    "print mesh"
   ]
  },
  {
   "cell_type": "code",
   "execution_count": null,
   "metadata": {
    "collapsed": true
   },
   "outputs": [],
   "source": []
  },
  {
   "cell_type": "code",
   "execution_count": 31,
   "metadata": {
    "collapsed": false
   },
   "outputs": [],
   "source": [
    "sighalf = 1e-2\n",
    "sigma = np.ones(mesh.nC)*sighalf\n",
    "p0 = np.r_[-50., 50., -50.]\n",
    "p1 = np.r_[ 50.,-50., -150.]\n",
    "blk_ind = Utils.ModelBuilder.getIndicesBlock(p0, p1, mesh.gridCC)\n",
    "sigma[blk_ind] = 1e-3"
   ]
  },
  {
   "cell_type": "code",
   "execution_count": 32,
   "metadata": {
    "collapsed": false
   },
   "outputs": [],
   "source": [
    "eta = np.zeros_like(sigma)\n",
    "eta[blk_ind] = 0.1"
   ]
  },
  {
   "cell_type": "code",
   "execution_count": 33,
   "metadata": {
    "collapsed": false
   },
   "outputs": [],
   "source": [
    "sigmaInf = sigma.copy()\n",
    "sigma0 = sigma*(1-eta)"
   ]
  },
  {
   "cell_type": "code",
   "execution_count": 34,
   "metadata": {
    "collapsed": false
   },
   "outputs": [
    {
     "data": {
      "text/plain": [
       "(-600.0, 600.0, -600.0, 0.0)"
      ]
     },
     "execution_count": 34,
     "metadata": {},
     "output_type": "execute_result"
    },
    {
     "data": {
      "image/png": "[encoded data removed]",
      "text/plain": [
       "<matplotlib.figure.Figure at 0x10986eb90>"
      ]
     },
     "metadata": {},
     "output_type": "display_data"
    }
   ],
   "source": [
    "dat = mesh.plotSlice(eta, normal='Y')\n",
    "plt.colorbar(dat[0])\n",
    "axis('equal')"
   ]
  },
  {
   "cell_type": "code",
   "execution_count": 35,
   "metadata": {
    "collapsed": false
   },
   "outputs": [],
   "source": [
    "nElecs = 21\n",
    "x_temp = np.linspace(-250, 250, nElecs)\n",
    "aSpacing = x_temp[1]-x_temp[0]\n",
    "y_temp = 0.\n",
    "xyz = Utils.ndgrid(x_temp, np.r_[y_temp], np.r_[0.])"
   ]
  },
  {
   "cell_type": "code",
   "execution_count": 36,
   "metadata": {
    "collapsed": false
   },
   "outputs": [
    {
     "name": "stdout",
     "output_type": "stream",
     "text": [
      "63\n"
     ]
    }
   ],
   "source": [
    "srcList = DC.Examples.WennerArray.getSrcList(nElecs,aSpacing)\n",
    "survey = DC.SurveyDC(srcList)\n",
    "print len(survey.srcList)"
   ]
  },
  {
   "cell_type": "code",
   "execution_count": 40,
   "metadata": {
    "collapsed": true
   },
   "outputs": [],
   "source": [
    "DATA = Survey.Data(survey)"
   ]
  },
  {
   "cell_type": "code",
   "execution_count": 42,
   "metadata": {
    "collapsed": true
   },
   "outputs": [],
   "source": [
    "tx0 = srcList[0]"
   ]
  },
  {
   "cell_type": "code",
   "execution_count": 55,
   "metadata": {
    "collapsed": false
   },
   "outputs": [
    {
     "data": {
      "text/plain": [
       "'c5f9fd3e-9e73-4561-b2c2-52a2747439e8'"
      ]
     },
     "execution_count": 55,
     "metadata": {},
     "output_type": "execute_result"
    }
   ],
   "source": [
    "tx0.uid"
   ]
  },
  {
   "cell_type": "code",
   "execution_count": 37,
   "metadata": {
    "collapsed": true
   },
   "outputs": [],
   "source": [
    "import SimPEG"
   ]
  },
  {
   "cell_type": "code",
   "execution_count": 39,
   "metadata": {
    "collapsed": false
   },
   "outputs": [],
   "source": [
    "SimPEG.Survey.Data??"
   ]
  },
  {
   "cell_type": "code",
   "execution_count": 11,
   "metadata": {
    "collapsed": false
   },
   "outputs": [
    {
     "data": {
      "text/plain": [
       "[<matplotlib.lines.Line2D at 0x1089f8550>]"
      ]
     },
     "execution_count": 11,
     "metadata": {},
     "output_type": "execute_result"
    },
    {
     "data": {
      "image/png": "[encoded data removed]",
      "text/plain": [
       "<matplotlib.figure.Figure at 0x1087a6750>"
      ]
     },
     "metadata": {},
     "output_type": "display_data"
    }
   ],
   "source": [
    "fig, ax = plt.subplots(1,1, figsize = (6.5,5))\n",
    "indz = 22\n",
    "dat = mesh.plotSlice(sigma, grid=True, ax = ax, ind=indz)\n",
    "ax.set_xlim(-300, 300)\n",
    "ax.set_ylim(-300, 300)\n",
    "cb = plt.colorbar(dat[0])\n",
    "ax.set_title('Depth at '+str(mesh.vectorCCz[indz])+' m')\n",
    "\n",
    "txLocs = np.array([[tx.loc[0][0], tx.loc[1][0]] for tx in survey.srcList]).flatten()\n",
    "ax.plot(txLocs, txLocs*0, 'w.', ms = 3)"
   ]
  },
  {
   "cell_type": "code",
   "execution_count": 12,
   "metadata": {
    "collapsed": false
   },
   "outputs": [],
   "source": [
    "expmap = Maps.ExpMap(mesh)\n",
    "m2to3  = Maps.Map2Dto3D(mesh,normal='Y')\n",
    "imap   = Maps.IdentityMap(mesh)\n",
    "problem = DC.ProblemDC_CC(mesh, mapping= imap )\n",
    "problem.Solver = MumpsSolver\n",
    "try:\n",
    "    problem.pair(survey)\n",
    "except Exception, e:\n",
    "    survey.unpair()\n",
    "    problem.pair(survey)"
   ]
  },
  {
   "cell_type": "code",
   "execution_count": 18,
   "metadata": {
    "collapsed": false
   },
   "outputs": [
    {
     "name": "stdout",
     "output_type": "stream",
     "text": [
      "CPU times: user 6.49 s, sys: 705 ms, total: 7.2 s\n",
      "Wall time: 4.94 s\n"
     ]
    }
   ],
   "source": [
    "%%time\n",
    "phi0 = survey.dpred(sigma0)"
   ]
  },
  {
   "cell_type": "code",
   "execution_count": 21,
   "metadata": {
    "collapsed": false
   },
   "outputs": [
    {
     "name": "stdout",
     "output_type": "stream",
     "text": [
      "  ---- 3-D TensorMesh ----  \n",
      "   x0: -541.97\n",
      "   y0: -416.97\n",
      "   z0: -548.22\n",
      "  nCx: 55\n",
      "  nCy: 35\n",
      "  nCz: 28\n",
      "   hx: 78.44, 60.34, 46.41, 35.70, 27.46, 21.13, 16.25, 41*12.50, 16.25, 21.13, 27.46, 35.70, 46.41, 60.34, 78.44\n",
      "   hy: 78.44, 60.34, 46.41, 35.70, 27.46, 21.13, 16.25, 21*12.50, 16.25, 21.13, 27.46, 35.70, 46.41, 60.34, 78.44\n",
      "   hz: 78.44, 60.34, 46.41, 35.70, 27.46, 21.13, 16.25, 21*12.50\n"
     ]
    }
   ],
   "source": [
    "print mesh"
   ]
  },
  {
   "cell_type": "code",
   "execution_count": 22,
   "metadata": {
    "collapsed": false
   },
   "outputs": [],
   "source": [
    "phiInf = survey.dpred(sigmaInf)"
   ]
  },
  {
   "cell_type": "code",
   "execution_count": 23,
   "metadata": {
    "collapsed": false
   },
   "outputs": [],
   "source": [
    "phiIP_true = phi0-phiInf"
   ]
  },
  {
   "cell_type": "code",
   "execution_count": 24,
   "metadata": {
    "collapsed": false
   },
   "outputs": [],
   "source": [
    "# F = problem.fields(mesh, survey)"
   ]
  },
  {
   "cell_type": "code",
   "execution_count": 25,
   "metadata": {
    "collapsed": false
   },
   "outputs": [],
   "source": [
    "surveyIP = DC.SurveyIP(srcList)\n",
    "problemIP = DC.ProblemIP(mesh, sigma=sigma)\n",
    "problemIP.pair(surveyIP)\n",
    "problemIP.Solver = MumpsSolver"
   ]
  },
  {
   "cell_type": "code",
   "execution_count": null,
   "metadata": {
    "collapsed": false
   },
   "outputs": [],
   "source": []
  },
  {
   "cell_type": "code",
   "execution_count": 26,
   "metadata": {
    "collapsed": false
   },
   "outputs": [
    {
     "data": {
      "text/plain": [
       "[<matplotlib.lines.Line2D at 0x10984ab90>,\n",
       " <matplotlib.lines.Line2D at 0x10984ae10>]"
      ]
     },
     "execution_count": 26,
     "metadata": {},
     "output_type": "execute_result"
    },
    {
     "data": {
      "image/png": "[encoded data removed]",
      "text/plain": [
       "<matplotlib.figure.Figure at 0x1089dcf90>"
      ]
     },
     "metadata": {},
     "output_type": "display_data"
    }
   ],
   "source": [
    "datasyn = surveyIP.dpred(eta)\n",
    "surveyIP.makeSyntheticData(eta,std=0.02,force=True)\n",
    "plot(np.c_[surveyIP.dobs,datasyn])"
   ]
  },
  {
   "cell_type": "code",
   "execution_count": 27,
   "metadata": {
    "collapsed": false
   },
   "outputs": [],
   "source": [
    "problemIP.mapping = imap"
   ]
  },
  {
   "cell_type": "code",
   "execution_count": 28,
   "metadata": {
    "collapsed": false
   },
   "outputs": [],
   "source": [
    "dmis = DataMisfit.l2_DataMisfit(surveyIP)\n",
    "dmis.Wd = 1./abs(phi0)*1e3\n",
    "reg = Regularization.Tikhonov(mesh,mapping=imap)\n",
    "# opt = Optimization.InexactGaussNewton(maxIter=4,tolX=1e-15)\n",
    "opt = Optimization.ProjectedGNCG(maxIter=3,tolX=1e-15)\n",
    "opt.remember('xc')\n",
    "invProb = InvProblem.BaseInvProblem(dmis, reg, opt)\n",
    "beta = Directives.BetaEstimate_ByEig(beta0_ratio=1e-1)\n",
    "betaSched = Directives.BetaSchedule(coolingFactor=5, coolingRate=4)\n",
    "inv = Inversion.BaseInversion(invProb, directiveList=[beta,betaSched])"
   ]
  },
  {
   "cell_type": "code",
   "execution_count": 29,
   "metadata": {
    "collapsed": false
   },
   "outputs": [],
   "source": [
    "reg.alpha_s = 1e-4\n",
    "reg.alpha_x = 1.\n",
    "reg.alpha_z = 1.\n",
    "reg.alpha_y = 1."
   ]
  },
  {
   "cell_type": "code",
   "execution_count": 30,
   "metadata": {
    "collapsed": false
   },
   "outputs": [],
   "source": [
    "opt.upper = Inf\n",
    "opt.lower = 0."
   ]
  },
  {
   "cell_type": "code",
   "execution_count": 25,
   "metadata": {
    "collapsed": false
   },
   "outputs": [
    {
     "name": "stdout",
     "output_type": "stream",
     "text": [
      "SimPEG.InvProblem will set Regularization.mref to m0.\n",
      "SimPEG.InvProblem is setting bfgsH0 to the inverse of the eval2Deriv.\n",
      "                    ***Done using same solver as the problem***\n",
      "=============================== Projected GNCG ===============================\n",
      "  #     beta     phi_d     phi_m       f      |proj(x-g)-x|  LS    Comment   \n",
      "-----------------------------------------------------------------------------\n",
      "   0  5.84e+00  9.43e+01  0.00e+00  9.43e+01    1.69e+03      0              \n",
      "   1  5.84e+00  7.43e+00  6.13e-03  7.46e+00    3.04e+02      0              \n",
      "   2  5.84e+00  3.10e+00  1.33e-02  3.18e+00    2.65e+02      0   Skip BFGS  \n",
      "   3  5.84e+00  2.13e+00  1.82e-02  2.24e+00    2.49e+02      0   Skip BFGS  \n",
      "------------------------- STOP! -------------------------\n",
      "1 : |fc-fOld| = 9.4407e-01 <= tolF*(1+|f0|) = 9.5287e+00\n",
      "0 : |xc-x_last| = 4.4997e-02 <= tolX*(1+|x0|) = 1.0000e-15\n",
      "0 : |proj(x-g)-x|    = 2.4936e+02 <= tolG          = 1.0000e-01\n",
      "0 : |proj(x-g)-x|    = 2.4936e+02 <= 1e3*eps       = 1.0000e-02\n",
      "1 : maxIter   =       3    <= iter          =      3\n",
      "------------------------- DONE! -------------------------\n"
     ]
    }
   ],
   "source": [
    "m0 = np.ones(problemIP.mapping.nP)*1e-10\n",
    "mopt = inv.run(m0)"
   ]
  },
  {
   "cell_type": "code",
   "execution_count": 26,
   "metadata": {
    "collapsed": false
   },
   "outputs": [
    {
     "name": "stdout",
     "output_type": "stream",
     "text": [
      "  ---- 3-D TensorMesh ----  \n",
      "   x0: -541.97\n",
      "   y0: -416.97\n",
      "   z0: -548.22\n",
      "  nCx: 55\n",
      "  nCy: 35\n",
      "  nCz: 28\n",
      "   hx: 78.44, 60.34, 46.41, 35.70, 27.46, 21.13, 16.25, 41*12.50, 16.25, 21.13, 27.46, 35.70, 46.41, 60.34, 78.44\n",
      "   hy: 78.44, 60.34, 46.41, 35.70, 27.46, 21.13, 16.25, 21*12.50, 16.25, 21.13, 27.46, 35.70, 46.41, 60.34, 78.44\n",
      "   hz: 78.44, 60.34, 46.41, 35.70, 27.46, 21.13, 16.25, 21*12.50\n"
     ]
    }
   ],
   "source": [
    "print mesh"
   ]
  },
  {
   "cell_type": "code",
   "execution_count": 27,
   "metadata": {
    "collapsed": false
   },
   "outputs": [
    {
     "data": {
      "text/plain": [
       "(-600.0, 600.0, -600.0, 0.0)"
      ]
     },
     "execution_count": 27,
     "metadata": {},
     "output_type": "execute_result"
    },
    {
     "data": {
      "image/png": "[encoded data removed]",
      "text/plain": [
       "<matplotlib.figure.Figure at 0x10faf04d0>"
      ]
     },
     "metadata": {},
     "output_type": "display_data"
    }
   ],
   "source": [
    "colorbar(mesh.plotSlice(mopt, normal='Y', ind=17, grid=True, gridOpts={'alpha': 0.2, 'color':'black'})[0])\n",
    "axis('equal')"
   ]
  },
  {
   "cell_type": "code",
   "execution_count": 28,
   "metadata": {
    "collapsed": false
   },
   "outputs": [],
   "source": [
    "# sigma_est = expmap * m2to3 * mopt"
   ]
  },
  {
   "cell_type": "code",
   "execution_count": 29,
   "metadata": {
    "collapsed": false
   },
   "outputs": [],
   "source": [
    "dpred = surveyIP.dpred(mopt)"
   ]
  },
  {
   "cell_type": "code",
   "execution_count": 30,
   "metadata": {
    "collapsed": false
   },
   "outputs": [
    {
     "data": {
      "text/plain": [
       "[<matplotlib.lines.Line2D at 0x11345b510>,\n",
       " <matplotlib.lines.Line2D at 0x11345b750>]"
      ]
     },
     "execution_count": 30,
     "metadata": {},
     "output_type": "execute_result"
    },
    {
     "data": {
      "image/png": "[encoded data removed]",
      "text/plain": [
       "<matplotlib.figure.Figure at 0x10f219190>"
      ]
     },
     "metadata": {},
     "output_type": "display_data"
    }
   ],
   "source": [
    "plot(np.c_[dpred,surveyIP.dobs], '.-')"
   ]
  },
  {
   "cell_type": "code",
   "execution_count": 24,
   "metadata": {
    "collapsed": false
   },
   "outputs": [],
   "source": []
  }
 ],
 "metadata": {
  "kernelspec": {
   "display_name": "Python 2",
   "language": "python",
   "name": "python2"
  },
  "language_info": {
   "codemirror_mode": {
    "name": "ipython",
    "version": 2
   },
   "file_extension": ".py",
   "mimetype": "text/x-python",
   "name": "python",
   "nbconvert_exporter": "python",
   "pygments_lexer": "ipython2",
   "version": "2.7.10"
  }
 },
 "nbformat": 4,
 "nbformat_minor": 0
}
