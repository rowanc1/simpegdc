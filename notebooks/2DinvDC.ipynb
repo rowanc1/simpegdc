{
 "cells": [
  {
   "cell_type": "code",
   "execution_count": 47,
   "metadata": {
    "collapsed": false
   },
   "outputs": [],
   "source": [
    "from SimPEG import *\n",
    "import simpegDCIP as DC\n",
    "from numpy.polynomial import polynomial"
   ]
  },
  {
   "cell_type": "code",
   "execution_count": 48,
   "metadata": {
    "collapsed": false
   },
   "outputs": [
    {
     "name": "stdout",
     "output_type": "stream",
     "text": [
      "Populating the interactive namespace from numpy and matplotlib\n"
     ]
    },
    {
     "name": "stderr",
     "output_type": "stream",
     "text": [
      "WARNING: pylab import has clobbered these variables: ['linalg', 'inv']\n",
      "`%matplotlib` prevents importing * from pylab and numpy\n"
     ]
    }
   ],
   "source": [
    "%pylab inline"
   ]
  },
  {
   "cell_type": "code",
   "execution_count": 49,
   "metadata": {
    "collapsed": false
   },
   "outputs": [],
   "source": [
    "cs = 0.5\n",
    "mesh = Mesh.TensorMesh([np.ones(100)*cs, np.ones(50)*cs], \"CN\")\n",
    "x = mesh.vectorCCx"
   ]
  },
  {
   "cell_type": "code",
   "execution_count": 50,
   "metadata": {
    "collapsed": true
   },
   "outputs": [],
   "source": [
    "actx = (x>-15.)&(x<15.)"
   ]
  },
  {
   "cell_type": "code",
   "execution_count": 98,
   "metadata": {
    "collapsed": false
   },
   "outputs": [],
   "source": [
    "order = 3\n",
    "Vobs = polynomial.polyvander(x, order)\n",
    "dobs = 0.05*x-4\n",
    "H = np.dot(Vobs.T, Vobs)\n",
    "g = np.dot(Vobs.T, dobs)\n",
    "mest = np.linalg.solve(H, g)"
   ]
  },
  {
   "cell_type": "code",
   "execution_count": 99,
   "metadata": {
    "collapsed": false
   },
   "outputs": [],
   "source": [
    "dpred = Vobs.dot(mest)"
   ]
  },
  {
   "cell_type": "code",
   "execution_count": 100,
   "metadata": {
    "collapsed": false
   },
   "outputs": [],
   "source": [
    "V = polynomial.polyvander(x, order)\n",
    "m1D = Mesh.TensorMesh([V.shape[1]+2])\n",
    "weight = (1./(V**2).sum(axis=0))**0.5\n",
    "weight = weight / weight.max()\n",
    "weightmap = Maps.Weighting(m1D, weights=np.r_[1., 1., weight])\n",
    "m0_poly = np.r_[np.log(1e-3), np.log(1e-3), np.r_[-3., np.zeros(V.shape[1]-1)] / weight]\n",
    "mtrue_poly = np.r_[np.log(1e-3), np.log(1e0), mest / weight]"
   ]
  },
  {
   "cell_type": "code",
   "execution_count": 101,
   "metadata": {
    "collapsed": false
   },
   "outputs": [],
   "source": [
    "polymap = Maps.PolyMap(mesh, V.shape[1]-1, logSigma=True, normal='Y')\n",
    "mappingfwd = polymap*weightmap\n",
    "mapping = Maps.ExpMap(mesh)"
   ]
  },
  {
   "cell_type": "code",
   "execution_count": 102,
   "metadata": {
    "collapsed": false
   },
   "outputs": [],
   "source": [
    "sigma = mappingfwd*mtrue_poly"
   ]
  },
  {
   "cell_type": "code",
   "execution_count": 103,
   "metadata": {
    "collapsed": false
   },
   "outputs": [],
   "source": [
    "xr = np.linspace(-15, 15, 20)\n",
    "xz_A = Utils.ndgrid(xr, np.r_[-0.25])\n",
    "xz_B = Utils.ndgrid(np.ones_like(xr)*22, np.r_[-0.25])\n",
    "xz_M = Utils.ndgrid(xr, np.r_[-0.25])\n",
    "xz_N = Utils.ndgrid(np.ones_like(xr)*-22, np.r_[-0.25])\n",
    "\n",
    "ntx = xz_A.shape[0]\n",
    "txList = []\n",
    "for i in range(ntx):\n",
    "    offset = abs(xz_A[i,0]-xz_M[:,0])\n",
    "    actrx = offset > 5.\n",
    "    rx = DC.RxDipole(xz_M[actrx,:], xz_N[actrx,:])\n",
    "    src = DC.SrcDipole([rx], xz_A[i,:], xz_B[i,:])\n",
    "    txList.append(src)"
   ]
  },
  {
   "cell_type": "code",
   "execution_count": 104,
   "metadata": {
    "collapsed": false
   },
   "outputs": [
    {
     "data": {
      "text/plain": [
       "[<matplotlib.lines.Line2D at 0x10c7a9210>]"
      ]
     },
     "execution_count": 104,
     "metadata": {},
     "output_type": "execute_result"
    },
    {
     "data": {
      "image/png": "[encoded data removed]",
      "text/plain": [
       "<matplotlib.figure.Figure at 0x10ab76b50>"
      ]
     },
     "metadata": {},
     "output_type": "display_data"
    }
   ],
   "source": [
    "dat = mesh.plotImage(np.log10(sigma), clim=(-2, 0))\n",
    "plt.colorbar(dat[0])\n",
    "plot(xz_A[:,0], xz_A[:,1], 'w.')\n",
    "plot(xz_B[:,0], xz_B[:,1], 'y.')\n",
    "plot(xz_N[:,0], xz_N[:,1], 'r.')"
   ]
  },
  {
   "cell_type": "code",
   "execution_count": 105,
   "metadata": {
    "collapsed": false
   },
   "outputs": [
    {
     "data": {
      "text/plain": [
       "[<matplotlib.lines.Line2D at 0x10c039b50>]"
      ]
     },
     "execution_count": 105,
     "metadata": {},
     "output_type": "execute_result"
    },
    {
     "data": {
      "image/png": "[encoded data removed]",
      "text/plain": [
       "<matplotlib.figure.Figure at 0x10bfe44d0>"
      ]
     },
     "metadata": {},
     "output_type": "display_data"
    }
   ],
   "source": [
    "dat = mesh.plotImage(np.log10(mappingfwd*m0), clim=(-2, 0))\n",
    "plt.colorbar(dat[0])\n",
    "plot(xz_A[:,0], xz_A[:,1], 'w.')\n",
    "plot(xz_B[:,0], xz_B[:,1], 'y.')\n",
    "plot(xz_N[:,0], xz_N[:,1], 'r.')"
   ]
  },
  {
   "cell_type": "code",
   "execution_count": 106,
   "metadata": {
    "collapsed": true
   },
   "outputs": [],
   "source": [
    "from pymatsolver import MumpsSolver"
   ]
  },
  {
   "cell_type": "code",
   "execution_count": 107,
   "metadata": {
    "collapsed": false
   },
   "outputs": [
    {
     "data": {
      "text/plain": [
       "[<matplotlib.lines.Line2D at 0x10d8c2d90>]"
      ]
     },
     "execution_count": 107,
     "metadata": {},
     "output_type": "execute_result"
    },
    {
     "data": {
      "image/png": "[encoded data removed]",
      "text/plain": [
       "<matplotlib.figure.Figure at 0x10cd0a810>"
      ]
     },
     "metadata": {},
     "output_type": "display_data"
    }
   ],
   "source": [
    "mtrue = np.log(sigma)\n",
    "m0 = np.log(np.ones(mesh.nC)*1e-3)\n",
    "survey = DC.SurveyDC(txList)\n",
    "problem = DC.ProblemDC_CC(mesh, mapping = mapping)\n",
    "problem.pair(survey)\n",
    "problem.Solver = MumpsSolver\n",
    "dtrue  = survey.dpred(mtrue)\n",
    "d0  = survey.dpred(m0)\n",
    "plot(dtrue)\n",
    "plot(d0)"
   ]
  },
  {
   "cell_type": "code",
   "execution_count": 108,
   "metadata": {
    "collapsed": false
   },
   "outputs": [
    {
     "data": {
      "text/plain": [
       "0.004688525906217933"
      ]
     },
     "execution_count": 108,
     "metadata": {},
     "output_type": "execute_result"
    }
   ],
   "source": [
    "abs(dtrue).min()"
   ]
  },
  {
   "cell_type": "code",
   "execution_count": 109,
   "metadata": {
    "collapsed": false
   },
   "outputs": [
    {
     "data": {
      "text/plain": [
       "(array([  1.,   2.,   3.,   4.,   5.,   4.,   6.,   7.,   8.,   9.,   8.,\n",
       "         10.,  17.,  17.,  18.,  33.,  41.,  30.,  32.,  17.]),\n",
       " array([-2.32896368, -2.11250236, -1.89604103, -1.67957971, -1.46311839,\n",
       "        -1.24665706, -1.03019574, -0.81373442, -0.59727309, -0.38081177,\n",
       "        -0.16435044,  0.05211088,  0.2685722 ,  0.48503353,  0.70149485,\n",
       "         0.91795617,  1.1344175 ,  1.35087882,  1.56734014,  1.78380147,\n",
       "         2.00026279]),\n",
       " <a list of 20 Patch objects>)"
      ]
     },
     "execution_count": 109,
     "metadata": {},
     "output_type": "execute_result"
    },
    {
     "data": {
      "image/png": "[encoded data removed]",
      "text/plain": [
       "<matplotlib.figure.Figure at 0x10a2299d0>"
      ]
     },
     "metadata": {},
     "output_type": "display_data"
    }
   ],
   "source": [
    "hist(np.log10(abs(dtrue)), bins = 20)"
   ]
  },
  {
   "cell_type": "code",
   "execution_count": 110,
   "metadata": {
    "collapsed": false
   },
   "outputs": [],
   "source": [
    "noise = 0.05*abs(dtrue)*np.random.randn(dtrue.shape[0])"
   ]
  },
  {
   "cell_type": "code",
   "execution_count": 111,
   "metadata": {
    "collapsed": false
   },
   "outputs": [
    {
     "name": "stdout",
     "output_type": "stream",
     "text": [
      "SimPEG.InvProblem is setting bfgsH0 to the inverse of the eval2Deriv.\n",
      "                    ***Done using same solver as the problem***\n",
      "============================ Inexact Gauss Newton ============================\n",
      "  #     beta     phi_d     phi_m       f      |proj(x-g)-x|  LS    Comment   \n",
      "-----------------------------------------------------------------------------\n",
      "   0  1.00e+00  1.40e+08  0.00e+00  1.40e+08    8.32e+06      0              \n",
      "   1  1.00e+00  1.88e+07  6.18e-03  1.88e+07    1.13e+06      0              \n",
      "   2  1.00e+00  2.52e+06  2.45e-02  2.52e+06    1.55e+05      0   Skip BFGS  \n",
      "   3  1.25e-01  3.50e+05  5.43e-02  3.50e+05    2.18e+04      0   Skip BFGS  \n",
      "   4  1.25e-01  6.62e+04  9.32e-02  6.62e+04    3.26e+03      0   Skip BFGS  \n",
      "   5  1.25e-01  1.56e+04  7.26e+00  1.56e+04    4.80e+02      1   Skip BFGS  \n",
      "   6  1.56e-02  4.47e+03  1.84e+01  4.47e+03    5.41e+02      1              \n",
      "   7  1.56e-02  2.73e+03  4.08e+01  2.73e+03    2.91e+03      0   Skip BFGS  \n",
      "   8  1.56e-02  5.74e+02  3.75e+01  5.75e+02    2.97e+02      0              \n",
      "   9  1.95e-03  3.37e+02  3.70e+01  3.37e+02    2.87e+02      0   Skip BFGS  \n",
      "  10  1.95e-03  2.47e+02  3.98e+01  2.47e+02    8.70e+01      0              \n",
      "  11  1.95e-03  1.99e+02  3.89e+01  1.99e+02    1.22e+02      0              \n",
      "  12  2.44e-04  1.60e+02  4.09e+01  1.60e+02    1.45e+02      0              \n",
      "  13  2.44e-04  1.38e+02  4.20e+01  1.38e+02    8.79e+01      0   Skip BFGS  \n",
      "------------------------- STOP! -------------------------\n",
      "1 : |fc-fOld| = 0.0000e+00 <= tolF*(1+|f0|) = 1.3961e+07\n",
      "1 : |xc-x_last| = 1.1216e+00 <= tolX*(1+|x0|) = 4.8945e+01\n",
      "0 : |proj(x-g)-x|    = 8.7946e+01 <= tolG          = 1.0000e-01\n",
      "0 : |proj(x-g)-x|    = 8.7946e+01 <= 1e3*eps       = 1.0000e-02\n",
      "0 : maxIter   =      30    <= iter          =     14\n",
      "------------------------- DONE! -------------------------\n"
     ]
    }
   ],
   "source": [
    "survey.dobs = dtrue +noise\n",
    "dmis = DataMisfit.l2_DataMisfit(survey)\n",
    "dmis.Wd = 1./(0.05*abs(dtrue)+ 0.1)\n",
    "reg = Regularization.Tikhonov(mesh)\n",
    "opt = Optimization.InexactGaussNewton(maxIter=30,maxIterLS=20)\n",
    "opt.remember('xc')\n",
    "invProb = InvProblem.BaseInvProblem(dmis, reg, opt)\n",
    "betaSched = Directives.BetaSchedule(coolingFactor=8, coolingRate=3)\n",
    "targetmis = Directives.TargetMisfit()\n",
    "savemodel = Directives.SaveModelEveryIteration()\n",
    "inv = Inversion.BaseInversion(invProb, directiveList=[betaSched,targetmis])\n",
    "reg.alpha_s = 1e-5\n",
    "reg.mref = m0\n",
    "mopt = inv.run(m0)"
   ]
  },
  {
   "cell_type": "code",
   "execution_count": 112,
   "metadata": {
    "collapsed": true
   },
   "outputs": [],
   "source": [
    "XC = opt.recall('xc')"
   ]
  },
  {
   "cell_type": "code",
   "execution_count": 113,
   "metadata": {
    "collapsed": true
   },
   "outputs": [],
   "source": [
    "from ipywidgets import interact, IntSlider\n",
    "def viewInv(iteration):\n",
    "    fig  = plt.figure(num=0,figsize = (10,5))\n",
    "    ax = plt.subplot(111)\n",
    "    dat = mesh.plotImage(np.log10(mapping*XC[iteration]), grid=True, ax=ax, clim=(-3, 0), gridOpts={'alpha':0.2}, pcolorOpts={'cmap':cm.RdPu})\n",
    "#     ax.set_xlim(mesh.vectorNx.min(), mesh.vectorNx.max())\n",
    "#     ax.set_ylim(mesh.vectorNy.min(), mesh.vectorNy.max())\n",
    "    ax.plot(mesh.vectorCCx, dpred, 'r--')\n",
    "    ax.plot(xz_A[:,0], xz_A[:,1], 'k.')\n",
    "    ax.plot(xz_B[:,0], xz_B[:,1], 'r.')\n",
    "    ax.plot(xz_N[:,0], xz_N[:,1], 'b.')    \n",
    "#     plt.colorbar(dat[0], ax=ax)\n",
    "#     ax.set_ylim (-15, 0.)\n",
    "#     ax.set_xlim (-15, 15.)\n",
    "    plt.show()\n",
    "    return True"
   ]
  },
  {
   "cell_type": "code",
   "execution_count": 114,
   "metadata": {
    "collapsed": false,
    "scrolled": true
   },
   "outputs": [
    {
     "data": {
      "image/png": "[encoded data removed]",
      "text/plain": [
       "<matplotlib.figure.Figure at 0x11286c350>"
      ]
     },
     "metadata": {},
     "output_type": "display_data"
    },
    {
     "data": {
      "text/plain": [
       "True"
      ]
     },
     "metadata": {},
     "output_type": "display_data"
    }
   ],
   "source": [
    "interact(viewInv, iteration = IntSlider(min=0, max=opt.iter-1,step=1, value=0))"
   ]
  },
  {
   "cell_type": "code",
   "execution_count": 46,
   "metadata": {
    "collapsed": false
   },
   "outputs": [
    {
     "data": {
      "text/plain": [
       "[<matplotlib.lines.Line2D at 0x10d8cdb50>]"
      ]
     },
     "execution_count": 46,
     "metadata": {},
     "output_type": "execute_result"
    },
    {
     "data": {
      "image/png": "[encoded data removed]",
      "text/plain": [
       "<matplotlib.figure.Figure at 0x10d8cd110>"
      ]
     },
     "metadata": {},
     "output_type": "display_data"
    }
   ],
   "source": [
    "plt.plot(survey.dobs)\n",
    "plt.plot(invProb.dpred)"
   ]
  },
  {
   "cell_type": "code",
   "execution_count": null,
   "metadata": {
    "collapsed": true
   },
   "outputs": [],
   "source": []
  }
 ],
 "metadata": {
  "kernelspec": {
   "display_name": "Python 2",
   "language": "python",
   "name": "python2"
  },
  "language_info": {
   "codemirror_mode": {
    "name": "ipython",
    "version": 2
   },
   "file_extension": ".py",
   "mimetype": "text/x-python",
   "name": "python",
   "nbconvert_exporter": "python",
   "pygments_lexer": "ipython2",
   "version": "2.7.10"
  }
 },
 "nbformat": 4,
 "nbformat_minor": 0
}
