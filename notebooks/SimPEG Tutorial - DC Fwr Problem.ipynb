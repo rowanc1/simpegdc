{
 "cells": [
  {
   "cell_type": "markdown",
   "metadata": {},
   "source": [
    "**Objective:** \n",
    "\n",
    "In this tutorial we will create a simple two-sphere model and simulate DC Resistivity data for various transmitter-receiver configurations.\n",
    "\n"
   ]
  },
  {
   "cell_type": "code",
   "execution_count": 1,
   "metadata": {
    "collapsed": false
   },
   "outputs": [
    {
     "name": "stdout",
     "output_type": "stream",
     "text": [
      "Efficiency Warning: Interpolation will be slow, use setup.py!\n",
      "\n",
      "            python setup.py build_ext --inplace\n",
      "    \n"
     ]
    }
   ],
   "source": [
    "from SimPEG import *\n",
    "import simpegDCIP as DC\n",
    "import scipy.interpolate as interpolation\n",
    "import time\n",
    "import re"
   ]
  },
  {
   "cell_type": "code",
   "execution_count": 2,
   "metadata": {
    "collapsed": false
   },
   "outputs": [
    {
     "name": "stderr",
     "output_type": "stream",
     "text": [
      "C:\\Users\\dominiquef.MIRAGEOSCIENCE\\AppData\\Local\\Continuum\\Anaconda\\lib\\site-packages\\IPython\\kernel\\__init__.py:13: ShimWarning: The `IPython.kernel` package has been deprecated. You should import from ipykernel or jupyter_client instead.\n",
      "  \"You should import from ipykernel or jupyter_client instead.\", ShimWarning)\n",
      "WARNING: "
     ]
    },
    {
     "name": "stdout",
     "output_type": "stream",
     "text": [
      "Populating the interactive namespace from numpy and matplotlib\n"
     ]
    },
    {
     "name": "stderr",
     "output_type": "stream",
     "text": [
      "pylab import has clobbered these variables: ['linalg']\n",
      "`%matplotlib` prevents importing * from pylab and numpy\n"
     ]
    }
   ],
   "source": [
    "%matplotlib notebook\n",
    "%pylab inline"
   ]
  },
  {
   "cell_type": "code",
   "execution_count": 13,
   "metadata": {
    "collapsed": false,
    "scrolled": true
   },
   "outputs": [
    {
     "data": {
      "text/plain": [
       "(-200, 200)"
      ]
     },
     "execution_count": 13,
     "metadata": {},
     "output_type": "execute_result"
    },
    {
     "data": {
      "image/png": "[encoded data removed]",
      "text/plain": [
       "<matplotlib.figure.Figure at 0x15e3dd30>"
      ]
     },
     "metadata": {},
     "output_type": "display_data"
    }
   ],
   "source": [
    "# First we need to create a mesh and a model.\n",
    "\n",
    "# This is our mesh\n",
    "dx    = 5.\n",
    "\n",
    "hxind = [(dx,15,-1.3), (dx, 75), (dx,15,1.3)]\n",
    "hyind = [(dx,15,-1.3), (dx, 10), (dx,15,1.3)]\n",
    "hzind = [(dx,15,-1.3),(dx, 15)]\n",
    "\n",
    "mesh = Mesh.TensorMesh([hxind, hyind, hzind], 'CCN')\n",
    "\n",
    "# Define our model\n",
    "bckgr = 1e-2\n",
    "cond  = 1e-1\n",
    "resis = 1e-3\n",
    "zloc  = -50.\n",
    "xloc  = 50.\n",
    "yloc  = 0.\n",
    "radi  = 25.\n",
    "\n",
    "# Set background conductivity\n",
    "model = np.ones(mesh.nC) * bckgr\n",
    "\n",
    "# First anomaly (conductor)\n",
    "ind = Utils.ModelBuilder.getIndicesSphere([-xloc,yloc,zloc],radi,mesh.gridCC)\n",
    "model[ind] = cond\n",
    "\n",
    "# Second anomaly (resistor)\n",
    "ind = Utils.ModelBuilder.getIndicesSphere([xloc,yloc,zloc],radi,mesh.gridCC)\n",
    "model[ind] = resis\n",
    "\n",
    "# Get index of the center\n",
    "indy = int(mesh.nCy/2)\n",
    "indz = int(np.argmin( np.abs(mesh.vectorCCz - zloc) ))\n",
    "\n",
    "# Plot the model for reference\n",
    "# Define core mesh extent\n",
    "xlim = 200\n",
    "zlim = 200\n",
    "\n",
    "plt.figure()\n",
    "ax = plt.subplot(1,2,1, aspect='equal')\n",
    "mesh.plotSlice(np.log10(model), ax =ax, normal = 'Y', ind = indy,grid=True)\n",
    "ax.set_title('E-W section at '+str(mesh.vectorCCy[indy])+' m')\n",
    "plt.gca().set_aspect('equal', adjustable='box')\n",
    "plt.xlim([-xlim,xlim])\n",
    "plt.ylim([-zlim,0])\n",
    "\n",
    "ax = plt.subplot(1,2,2, aspect='equal')\n",
    "mesh.plotSlice(np.log10(model), ax =ax, normal = 'Z', ind = indz,grid=True)\n",
    "ax.set_title('Depth at '+str(mesh.vectorCCz[indz])+' m')\n",
    "plt.gca().set_aspect('equal', adjustable='box')\n",
    "plt.xlim([-xlim,xlim])\n",
    "plt.ylim([-xlim,xlim])"
   ]
  },
  {
   "cell_type": "markdown",
   "metadata": {},
   "source": [
    "Now that we have model in 3D, we can define a survey.\n",
    "There area various ground DC configurations used in the field.\n",
    "We can explore two survey types here: pole-dipole (pdp) and dipole-dipole (dpdp).\n",
    "In both cases we need to specify three important parameter.\n",
    "\n",
    "a: Seperation (m) between the transmitter and receivers\n",
    "\n",
    "b: Dipole seperation (m) of the receiver (and transmitter for dpdp)\n",
    "\n",
    "n: Number of receiver dipoles along line\n",
    "\n",
    "We also need to give a starting and end point for the survey.\n"
   ]
  },
  {
   "cell_type": "code",
   "execution_count": 14,
   "metadata": {
    "collapsed": false
   },
   "outputs": [
    {
     "data": {
      "text/plain": [
       "(-200, 200)"
      ]
     },
     "execution_count": 14,
     "metadata": {},
     "output_type": "execute_result"
    },
    {
     "data": {
      "image/png": "[encoded data removed]",
      "text/plain": [
       "<matplotlib.figure.Figure at 0x15e3d240>"
      ]
     },
     "metadata": {},
     "output_type": "display_data"
    }
   ],
   "source": [
    "# Survey parameters\n",
    "a = 30.\n",
    "b = 30.\n",
    "n = 20 # Integer number of rx dipoles\n",
    "\n",
    "# Specify the survey type: \"pdp\" | \"dpdp\"\n",
    "stype = 'dpdp'\n",
    "\n",
    "# Then specify the end points of the survey. Let's keep it simple for now and survey above the anomalies, top of the mesh\n",
    "ends = [(-175,0),(175,0)]\n",
    "ends = np.c_[np.asarray(ends),np.ones(2).T*mesh.vectorNz[-1]]\n",
    "\n",
    "# Snap the endpoints to the grid. Easier to create 2D section.\n",
    "indx = Utils.closestPoints(mesh, ends )\n",
    "locs = np.c_[mesh.gridCC[indx,0],mesh.gridCC[indx,1],np.ones(2).T*mesh.vectorNz[-1]]\n",
    "\n",
    "# We will handle the geometry of the survey for you and create all the combination of tx-rx along line\n",
    "[Tx, Rx] = DC.gen_DCIPsurvey(locs, mesh, stype, a, b, n)\n",
    "\n",
    "# Here is an example for the first tx-rx array\n",
    "fig, ax = plt.subplots(1,1, figsize = (6.5,5))\n",
    "mesh.plotSlice(np.log10(model), ax =ax, normal = 'Z', ind = indz,grid=True)\n",
    "ax.set_title('Depth at '+str(mesh.vectorCCz[indz])+' m')\n",
    "plt.gca().set_aspect('equal', adjustable='box')\n",
    "\n",
    "plt.scatter(Tx[0][0,:],Tx[0][1,:],s=20,c='g')\n",
    "plt.scatter(Rx[0][:,0::3],Rx[0][:,1::3],s=20,c='y')\n",
    "plt.xlim([-xlim,xlim])\n",
    "plt.ylim([-xlim,xlim])"
   ]
  },
  {
   "cell_type": "markdown",
   "metadata": {},
   "source": [
    "The next section will specify all the parameters used to forward model the data"
   ]
  },
  {
   "cell_type": "code",
   "execution_count": 16,
   "metadata": {
    "collapsed": false
   },
   "outputs": [],
   "source": [
    "#Set boundary conditions\n",
    "mesh.setCellGradBC('neumann')\n",
    "\n",
    "# Define the differential operators needed for the DC problem\n",
    "Div = mesh.faceDiv\n",
    "Grad = mesh.cellGrad\n",
    "Msig = Utils.sdiag(1./(mesh.aveF2CC.T*(1./model)))\n",
    "\n",
    "A = Div*Msig*Grad\n",
    "\n",
    "# Change one corner to deal with nullspace\n",
    "A[0,0] = 1\n",
    "A = sp.csc_matrix(A)\n",
    "\n",
    "# We will solve the system iteratively, so a pre-conditioner is helpful\n",
    "# This is simply a Jacobi preconditioner (inverse of the main diagonal)\n",
    "dA = A.diagonal()\n",
    "P = sp.spdiags(1/dA,0,A.shape[0],A.shape[0])\n",
    "    "
   ]
  },
  {
   "cell_type": "code",
   "execution_count": 17,
   "metadata": {
    "collapsed": false
   },
   "outputs": [
    {
     "name": "stdout",
     "output_type": "stream",
     "text": [
      "Transmitter 8 of 9 -> Time:0.990999937057 sec Transmitter 8 of 9\n",
      "Forward completed\n"
     ]
    }
   ],
   "source": [
    "# Now we can solve the system for all the transmitters\n",
    "# We want to store the data\n",
    "data = []\n",
    "\n",
    "# There is probably a more elegant way to do this, but we can just for-loop through the transmitters\n",
    "for ii in range(len(Tx)):\n",
    "    \n",
    "    start_time = time.time() # Let's time the calculations\n",
    "    \n",
    "    #print(\"Transmitter %i / %i\\r\" % (ii+1,len(Tx)))\n",
    "    \n",
    "    # Select dipole locations for receiver\n",
    "    rxloc_M = np.asarray(Rx[ii][:,0:3])\n",
    "    rxloc_N = np.asarray(Rx[ii][:,3:])\n",
    "    \n",
    "    # Number of receivers\n",
    "    nrx = rxloc_M.shape[0]\n",
    "  \n",
    "    # For usual cases \"dpdp\" or \"gradient\"\n",
    "    if not re.match(stype,'pdp'): \n",
    "        inds = Utils.closestPoints(mesh, np.asarray(Tx[ii]).T )\n",
    "        RHS = mesh.getInterpolationMat(np.asarray(Tx[ii]).T, 'CC').T*( [-1,1] / mesh.vol[inds] )   \n",
    "        \n",
    "    else: \n",
    "        \n",
    "        # Create an \"inifinity\" pole\n",
    "        tx =  np.squeeze(Tx[ii][:,0:1])\n",
    "        tinf = tx + np.array([dl_x,dl_y,0])*dl_len*2\n",
    "        inds = Utils.closestPoints(mesh, np.c_[tx,tinf].T)\n",
    "        RHS = mesh.getInterpolationMat(np.asarray(Tx[ii]).T, 'CC').T*( [-1] / mesh.vol[inds] )  \n",
    "\n",
    "\n",
    "    # Iterative Solve\n",
    "    Ainvb = sp.linalg.bicgstab(P*A,P*RHS, tol=1e-5)\n",
    "\n",
    "    # We now have the potential everywhere\n",
    "    phi = mkvc(Ainvb[0])\n",
    "    \n",
    "    # Solve for phi on pole locations\n",
    "    P1 = mesh.getInterpolationMat(rxloc_M, 'CC')\n",
    "    P2 = mesh.getInterpolationMat(rxloc_N, 'CC')\n",
    "        \n",
    "    # Compute the potential difference\n",
    "    dtemp = (P1*phi - P2*phi)*np.pi\n",
    "    \n",
    "    data.append( dtemp )     \n",
    "    print '\\rTransmitter {0} of {1} -> Time:{2} sec'.format(ii,len(Tx),time.time()- start_time),\n",
    "    \n",
    "print 'Transmitter {0} of {1}'.format(ii,len(Tx))\n",
    "print 'Forward completed'\n",
    " \n"
   ]
  },
  {
   "cell_type": "markdown",
   "metadata": {},
   "source": [
    "Once we have our problem, we can use the inversion tools in SimPEG to run our inversion:"
   ]
  },
  {
   "cell_type": "code",
   "execution_count": 25,
   "metadata": {
    "collapsed": false
   },
   "outputs": [
    {
     "data": {
      "image/png": "[encoded data removed]",
      "text/plain": [
       "<matplotlib.figure.Figure at 0x18d372e8>"
      ]
     },
     "metadata": {},
     "output_type": "display_data"
    }
   ],
   "source": [
    "# Let's just convert the 3D format into 2D (distance along line) and plot\n",
    "[Tx2d, Rx2d] = DC.convertObs_DC3D_to_2D(Tx,Rx)\n",
    "\n",
    "fig, ax = plt.subplots(1,1, figsize = (8,7))\n",
    "plt.gca().set_aspect('equal', adjustable='box')\n",
    "\n",
    "# Plot the location of the spheres for reference\n",
    "circle1=plt.Circle((-xloc-Tx[0][0,0],zloc),radi,color='w',fill=False, lw=3)\n",
    "circle2=plt.Circle((xloc-Tx[0][0,0],zloc),radi,color='k',fill=False, lw=3)\n",
    "ax.add_artist(circle1)\n",
    "ax.add_artist(circle2)\n",
    "\n",
    "# Add the speudo section\n",
    "DC.plot_pseudoSection(Tx2d,Rx2d,data,mesh.vectorNz[-1],stype)\n",
    "\n",
    "plt.xlim([0,2*xlim])\n",
    "plt.ylim([-zlim,0])\n",
    "plt.show()"
   ]
  },
  {
   "cell_type": "markdown",
   "metadata": {},
   "source": [
    "Back in the days (not so long ago really), geophysicists used to interpret DCR data directly from pseudo-section. Hopefully this example will convince you that interpretating speudo-section is really tricky, arguably impossible.\n",
    "Fortunately for us, we now have inversion techniques to make sense of the data."
   ]
  },
  {
   "cell_type": "code",
   "execution_count": 24,
   "metadata": {
    "collapsed": false
   },
   "outputs": [
    {
     "name": "stdout",
     "output_type": "stream",
     "text": [
      "125.0\n"
     ]
    }
   ],
   "source": [
    "print -xloc-Tx[0][0,0]"
   ]
  }
 ],
 "metadata": {
  "kernelspec": {
   "display_name": "Python 2",
   "language": "python",
   "name": "python2"
  },
  "language_info": {
   "codemirror_mode": {
    "name": "ipython",
    "version": 2
   },
   "file_extension": ".py",
   "mimetype": "text/x-python",
   "name": "python",
   "nbconvert_exporter": "python",
   "pygments_lexer": "ipython2",
   "version": "2.7.11"
  }
 },
 "nbformat": 4,
 "nbformat_minor": 0
}
